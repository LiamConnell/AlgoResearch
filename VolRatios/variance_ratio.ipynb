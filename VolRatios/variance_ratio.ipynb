{
 "cells": [
  {
   "cell_type": "code",
   "execution_count": 1,
   "metadata": {
    "collapsed": false
   },
   "outputs": [
    {
     "name": "stdout",
     "output_type": "stream",
     "text": [
      "Populating the interactive namespace from numpy and matplotlib\n"
     ]
    }
   ],
   "source": [
    "%pylab inline\n",
    "import pandas as pd\n",
    "import numpy as np\n",
    "from matplotlib import pyplot\n",
    "import seaborn"
   ]
  },
  {
   "cell_type": "code",
   "execution_count": 36,
   "metadata": {
    "collapsed": true
   },
   "outputs": [],
   "source": [
    "df = pd.read_pickle('../data/kal_returnsDF.pkl')\n",
    "symbolsDF = pd.read_pickle('../data/symbolsDF.pkl')\n",
    "sectors = symbolsDF.sector.unique().tolist()"
   ]
  },
  {
   "cell_type": "code",
   "execution_count": 31,
   "metadata": {
    "collapsed": true
   },
   "outputs": [],
   "source": [
    "start, end = '2007-05-02', '2016-04-11'                        #variable here\n",
    "datadir_name = '_'.join(('data', start, end))\n",
    "datadir_path = ''.join(('../data/', datadir_name))\n",
    "\n",
    "def get_symbol_results(symbol='F'):\n",
    "    df = pd.read_pickle(''.join((datadir_path, '/', symbol, '.pkl')))\n",
    "    return df\n",
    "df = get_symbol_results()"
   ]
  },
  {
   "cell_type": "code",
   "execution_count": 32,
   "metadata": {
    "collapsed": false
   },
   "outputs": [],
   "source": [
    "prices = df['Adj Close']"
   ]
  },
  {
   "cell_type": "code",
   "execution_count": 33,
   "metadata": {
    "collapsed": false
   },
   "outputs": [
    {
     "data": {
      "text/plain": [
       "0.48252543544815168"
      ]
     },
     "execution_count": 33,
     "metadata": {},
     "output_type": "execute_result"
    }
   ],
   "source": [
    "np.std((prices - prices.shift(-1))/prices) * np.sqrt(252)"
   ]
  },
  {
   "cell_type": "code",
   "execution_count": 34,
   "metadata": {
    "collapsed": false
   },
   "outputs": [
    {
     "data": {
      "text/plain": [
       "0.56584466155611601"
      ]
     },
     "execution_count": 34,
     "metadata": {},
     "output_type": "execute_result"
    }
   ],
   "source": [
    "np.std((prices - prices.shift(-5))/prices) * np.sqrt(52)"
   ]
  },
  {
   "cell_type": "code",
   "execution_count": 35,
   "metadata": {
    "collapsed": false
   },
   "outputs": [
    {
     "data": {
      "text/plain": [
       "1.0474850658271606"
      ]
     },
     "execution_count": 35,
     "metadata": {},
     "output_type": "execute_result"
    }
   ],
   "source": [
    "np.std((prices - prices.shift(-252))/prices) * np.sqrt(1)"
   ]
  },
  {
   "cell_type": "code",
   "execution_count": 9,
   "metadata": {
    "collapsed": false
   },
   "outputs": [
    {
     "data": {
      "text/plain": [
       "Date\n",
       "2007-05-02    197.556542\n",
       "2007-05-03    199.419681\n",
       "2007-05-04    204.622089\n",
       "2007-05-07    204.514085\n",
       "2007-05-08    202.470921\n",
       "Name: Adj Close, dtype: float64"
      ]
     },
     "execution_count": 9,
     "metadata": {},
     "output_type": "execute_result"
    }
   ],
   "source": [
    "prices.head()"
   ]
  },
  {
   "cell_type": "code",
   "execution_count": 10,
   "metadata": {
    "collapsed": false,
    "scrolled": true
   },
   "outputs": [
    {
     "data": {
      "text/plain": [
       "Date\n",
       "2007-05-02           NaN\n",
       "2007-05-03    197.556542\n",
       "2007-05-04    199.419681\n",
       "2007-05-07    204.622089\n",
       "2007-05-08    204.514085\n",
       "Name: Adj Close, dtype: float64"
      ]
     },
     "execution_count": 10,
     "metadata": {},
     "output_type": "execute_result"
    }
   ],
   "source": [
    "prices.shift(1).head()"
   ]
  },
  {
   "cell_type": "code",
   "execution_count": 41,
   "metadata": {
    "collapsed": false
   },
   "outputs": [
    {
     "data": {
      "text/plain": [
       "Index(['T', 'CTL', 'FTR', 'LVLT', 'VZ', 'APC', 'APA', 'BHI', 'COG', 'CHK', \n",
       "       ...\n",
       "       'ULTA', 'UA', 'URBN', 'VFC', 'VIAB', 'DIS', 'WHR', 'WYN', 'WYNN',\n",
       "       'YUM'],\n",
       "      dtype='object', name='symbols', length=504)"
      ]
     },
     "execution_count": 41,
     "metadata": {},
     "output_type": "execute_result"
    }
   ],
   "source": []
  },
  {
   "cell_type": "code",
   "execution_count": 44,
   "metadata": {
    "collapsed": false,
    "scrolled": false
   },
   "outputs": [],
   "source": [
    "pricesDF = pd.DataFrame()\n",
    "for symbol in symbolsDF.index:\n",
    "    df = get_symbol_results(symbol)\n",
    "    pricesDF[symbol] = df['Adj Close']"
   ]
  },
  {
   "cell_type": "code",
   "execution_count": 45,
   "metadata": {
    "collapsed": false
   },
   "outputs": [
    {
     "data": {
      "text/html": [
       "<div>\n",
       "<table border=\"1\" class=\"dataframe\">\n",
       "  <thead>\n",
       "    <tr style=\"text-align: right;\">\n",
       "      <th></th>\n",
       "      <th>T</th>\n",
       "      <th>CTL</th>\n",
       "      <th>FTR</th>\n",
       "      <th>LVLT</th>\n",
       "      <th>VZ</th>\n",
       "      <th>APC</th>\n",
       "      <th>APA</th>\n",
       "      <th>BHI</th>\n",
       "      <th>COG</th>\n",
       "      <th>CHK</th>\n",
       "      <th>...</th>\n",
       "      <th>ULTA</th>\n",
       "      <th>UA</th>\n",
       "      <th>URBN</th>\n",
       "      <th>VFC</th>\n",
       "      <th>VIAB</th>\n",
       "      <th>DIS</th>\n",
       "      <th>WHR</th>\n",
       "      <th>WYN</th>\n",
       "      <th>WYNN</th>\n",
       "      <th>YUM</th>\n",
       "    </tr>\n",
       "    <tr>\n",
       "      <th>Date</th>\n",
       "      <th></th>\n",
       "      <th></th>\n",
       "      <th></th>\n",
       "      <th></th>\n",
       "      <th></th>\n",
       "      <th></th>\n",
       "      <th></th>\n",
       "      <th></th>\n",
       "      <th></th>\n",
       "      <th></th>\n",
       "      <th></th>\n",
       "      <th></th>\n",
       "      <th></th>\n",
       "      <th></th>\n",
       "      <th></th>\n",
       "      <th></th>\n",
       "      <th></th>\n",
       "      <th></th>\n",
       "      <th></th>\n",
       "      <th></th>\n",
       "      <th></th>\n",
       "    </tr>\n",
       "  </thead>\n",
       "  <tbody>\n",
       "    <tr>\n",
       "      <th>2007-05-02</th>\n",
       "      <td>23.806670</td>\n",
       "      <td>25.751215</td>\n",
       "      <td>6.807884</td>\n",
       "      <td>81.300001</td>\n",
       "      <td>23.579651</td>\n",
       "      <td>42.494249</td>\n",
       "      <td>68.226727</td>\n",
       "      <td>74.189717</td>\n",
       "      <td>9.170394</td>\n",
       "      <td>30.182639</td>\n",
       "      <td>...</td>\n",
       "      <td>NaN</td>\n",
       "      <td>5.74375</td>\n",
       "      <td>25.60</td>\n",
       "      <td>17.145767</td>\n",
       "      <td>36.775298</td>\n",
       "      <td>30.876527</td>\n",
       "      <td>90.793549</td>\n",
       "      <td>31.141156</td>\n",
       "      <td>69.220217</td>\n",
       "      <td>27.672006</td>\n",
       "    </tr>\n",
       "    <tr>\n",
       "      <th>2007-05-03</th>\n",
       "      <td>23.942076</td>\n",
       "      <td>26.810619</td>\n",
       "      <td>6.705188</td>\n",
       "      <td>84.299998</td>\n",
       "      <td>24.454959</td>\n",
       "      <td>42.933105</td>\n",
       "      <td>68.815999</td>\n",
       "      <td>74.930171</td>\n",
       "      <td>9.160640</td>\n",
       "      <td>30.640465</td>\n",
       "      <td>...</td>\n",
       "      <td>NaN</td>\n",
       "      <td>5.56250</td>\n",
       "      <td>25.76</td>\n",
       "      <td>17.187508</td>\n",
       "      <td>36.590143</td>\n",
       "      <td>30.867879</td>\n",
       "      <td>90.536753</td>\n",
       "      <td>31.650275</td>\n",
       "      <td>67.008788</td>\n",
       "      <td>27.414899</td>\n",
       "    </tr>\n",
       "    <tr>\n",
       "      <th>2007-05-04</th>\n",
       "      <td>24.299052</td>\n",
       "      <td>26.838207</td>\n",
       "      <td>6.713746</td>\n",
       "      <td>83.999999</td>\n",
       "      <td>24.210823</td>\n",
       "      <td>42.923770</td>\n",
       "      <td>69.156675</td>\n",
       "      <td>74.289042</td>\n",
       "      <td>9.167955</td>\n",
       "      <td>30.131764</td>\n",
       "      <td>...</td>\n",
       "      <td>NaN</td>\n",
       "      <td>5.64625</td>\n",
       "      <td>25.43</td>\n",
       "      <td>17.177569</td>\n",
       "      <td>36.431439</td>\n",
       "      <td>31.006261</td>\n",
       "      <td>89.244746</td>\n",
       "      <td>31.226008</td>\n",
       "      <td>66.291044</td>\n",
       "      <td>27.788117</td>\n",
       "    </tr>\n",
       "    <tr>\n",
       "      <th>2007-05-07</th>\n",
       "      <td>24.372908</td>\n",
       "      <td>26.909938</td>\n",
       "      <td>6.653840</td>\n",
       "      <td>83.099999</td>\n",
       "      <td>24.312054</td>\n",
       "      <td>43.045152</td>\n",
       "      <td>69.165884</td>\n",
       "      <td>73.774337</td>\n",
       "      <td>9.165517</td>\n",
       "      <td>30.191117</td>\n",
       "      <td>...</td>\n",
       "      <td>NaN</td>\n",
       "      <td>5.60500</td>\n",
       "      <td>25.73</td>\n",
       "      <td>17.255089</td>\n",
       "      <td>37.013354</td>\n",
       "      <td>31.187887</td>\n",
       "      <td>89.758338</td>\n",
       "      <td>31.259951</td>\n",
       "      <td>65.857813</td>\n",
       "      <td>27.663710</td>\n",
       "    </tr>\n",
       "    <tr>\n",
       "      <th>2007-05-08</th>\n",
       "      <td>24.169802</td>\n",
       "      <td>26.915455</td>\n",
       "      <td>6.623887</td>\n",
       "      <td>84.750001</td>\n",
       "      <td>24.187005</td>\n",
       "      <td>42.634311</td>\n",
       "      <td>68.521363</td>\n",
       "      <td>73.413147</td>\n",
       "      <td>9.172831</td>\n",
       "      <td>29.919817</td>\n",
       "      <td>...</td>\n",
       "      <td>NaN</td>\n",
       "      <td>5.64000</td>\n",
       "      <td>25.90</td>\n",
       "      <td>17.235212</td>\n",
       "      <td>36.695945</td>\n",
       "      <td>31.611679</td>\n",
       "      <td>90.143535</td>\n",
       "      <td>31.047817</td>\n",
       "      <td>64.603381</td>\n",
       "      <td>27.721766</td>\n",
       "    </tr>\n",
       "  </tbody>\n",
       "</table>\n",
       "<p>5 rows × 504 columns</p>\n",
       "</div>"
      ],
      "text/plain": [
       "                    T        CTL       FTR       LVLT         VZ        APC  \\\n",
       "Date                                                                          \n",
       "2007-05-02  23.806670  25.751215  6.807884  81.300001  23.579651  42.494249   \n",
       "2007-05-03  23.942076  26.810619  6.705188  84.299998  24.454959  42.933105   \n",
       "2007-05-04  24.299052  26.838207  6.713746  83.999999  24.210823  42.923770   \n",
       "2007-05-07  24.372908  26.909938  6.653840  83.099999  24.312054  43.045152   \n",
       "2007-05-08  24.169802  26.915455  6.623887  84.750001  24.187005  42.634311   \n",
       "\n",
       "                  APA        BHI       COG        CHK    ...      ULTA  \\\n",
       "Date                                                     ...             \n",
       "2007-05-02  68.226727  74.189717  9.170394  30.182639    ...       NaN   \n",
       "2007-05-03  68.815999  74.930171  9.160640  30.640465    ...       NaN   \n",
       "2007-05-04  69.156675  74.289042  9.167955  30.131764    ...       NaN   \n",
       "2007-05-07  69.165884  73.774337  9.165517  30.191117    ...       NaN   \n",
       "2007-05-08  68.521363  73.413147  9.172831  29.919817    ...       NaN   \n",
       "\n",
       "                 UA   URBN        VFC       VIAB        DIS        WHR  \\\n",
       "Date                                                                     \n",
       "2007-05-02  5.74375  25.60  17.145767  36.775298  30.876527  90.793549   \n",
       "2007-05-03  5.56250  25.76  17.187508  36.590143  30.867879  90.536753   \n",
       "2007-05-04  5.64625  25.43  17.177569  36.431439  31.006261  89.244746   \n",
       "2007-05-07  5.60500  25.73  17.255089  37.013354  31.187887  89.758338   \n",
       "2007-05-08  5.64000  25.90  17.235212  36.695945  31.611679  90.143535   \n",
       "\n",
       "                  WYN       WYNN        YUM  \n",
       "Date                                         \n",
       "2007-05-02  31.141156  69.220217  27.672006  \n",
       "2007-05-03  31.650275  67.008788  27.414899  \n",
       "2007-05-04  31.226008  66.291044  27.788117  \n",
       "2007-05-07  31.259951  65.857813  27.663710  \n",
       "2007-05-08  31.047817  64.603381  27.721766  \n",
       "\n",
       "[5 rows x 504 columns]"
      ]
     },
     "execution_count": 45,
     "metadata": {},
     "output_type": "execute_result"
    }
   ],
   "source": [
    "pricesDF.head()"
   ]
  },
  {
   "cell_type": "code",
   "execution_count": 48,
   "metadata": {
    "collapsed": false
   },
   "outputs": [],
   "source": [
    "daily_vol = np.std((pricesDF - pricesDF.shift(-1))/pricesDF) * np.sqrt(252)"
   ]
  },
  {
   "cell_type": "code",
   "execution_count": 81,
   "metadata": {
    "collapsed": true
   },
   "outputs": [],
   "source": [
    "daily_vol_2day = np.std((pricesDF - pricesDF.shift(-2))/pricesDF) * np.sqrt(126)"
   ]
  },
  {
   "cell_type": "code",
   "execution_count": 64,
   "metadata": {
    "collapsed": true
   },
   "outputs": [],
   "source": [
    "daily_vol_3day= np.std((pricesDF - pricesDF.shift(-3))/pricesDF) * np.sqrt(84)"
   ]
  },
  {
   "cell_type": "code",
   "execution_count": 80,
   "metadata": {
    "collapsed": true
   },
   "outputs": [],
   "source": [
    "daily_vol_4day= np.std((pricesDF - pricesDF.shift(-4))/pricesDF) * np.sqrt(63)"
   ]
  },
  {
   "cell_type": "code",
   "execution_count": 69,
   "metadata": {
    "collapsed": true
   },
   "outputs": [],
   "source": [
    "daily_vol_5day = np.std((pricesDF - pricesDF.shift(-5))/pricesDF) * np.sqrt(52)"
   ]
  },
  {
   "cell_type": "code",
   "execution_count": 90,
   "metadata": {
    "collapsed": true
   },
   "outputs": [],
   "source": [
    "daily_vol_6day = np.std((pricesDF - pricesDF.shift(-6))/pricesDF) * np.sqrt(42)"
   ]
  },
  {
   "cell_type": "code",
   "execution_count": 93,
   "metadata": {
    "collapsed": true
   },
   "outputs": [],
   "source": [
    "def get_xday_vol(pricesDF, x):\n",
    "    vol = np.std((pricesDF - pricesDF.shift(-x))/pricesDF) * np.sqrt(252/x)\n",
    "    return vol"
   ]
  },
  {
   "cell_type": "code",
   "execution_count": 95,
   "metadata": {
    "collapsed": false
   },
   "outputs": [],
   "source": [
    "def get_vol_ratio(pricesDF, x, y):\n",
    "    return get_xday_vol(pricesDF, x)/get_xday_vol(pricesDF, y)"
   ]
  },
  {
   "cell_type": "code",
   "execution_count": 137,
   "metadata": {
    "collapsed": false
   },
   "outputs": [
    {
     "data": {
      "text/plain": [
       "<matplotlib.collections.PathCollection at 0x112e09898>"
      ]
     },
     "execution_count": 137,
     "metadata": {},
     "output_type": "execute_result"
    },
    {
     "name": "stderr",
     "output_type": "stream",
     "text": [
      "/Users/liamconnell/anaconda/lib/python3.4/site-packages/matplotlib/collections.py:590: FutureWarning: elementwise comparison failed; returning scalar instead, but in the future will perform elementwise comparison\n",
      "  if self._edgecolors == str('face'):\n"
     ]
    },
    {
     "data": {
      "image/png": "[encoded data removed]",
      "text/plain": [
       "<matplotlib.figure.Figure at 0x112d10470>"
      ]
     },
     "metadata": {},
     "output_type": "display_data"
    }
   ],
   "source": [
    "plt.scatter(get_vol_ratio(pricesDF, 3, 8), get_vol_ratio(pricesDF, 3, 5) )"
   ]
  },
  {
   "cell_type": "code",
   "execution_count": 91,
   "metadata": {
    "collapsed": false
   },
   "outputs": [
    {
     "data": {
      "text/plain": [
       "1.0820505199773238"
      ]
     },
     "execution_count": 91,
     "metadata": {},
     "output_type": "execute_result"
    }
   ],
   "source": [
    "(daily_vol/ daily_vol_6day).mean()"
   ]
  },
  {
   "cell_type": "code",
   "execution_count": null,
   "metadata": {
    "collapsed": true
   },
   "outputs": [],
   "source": [
    "## (daily_vol/ daily_vol_5day).hist(bins=50)"
   ]
  },
  {
   "cell_type": "code",
   "execution_count": 66,
   "metadata": {
    "collapsed": false
   },
   "outputs": [
    {
     "data": {
      "text/plain": [
       "<matplotlib.axes._subplots.AxesSubplot at 0x10f02c940>"
      ]
     },
     "execution_count": 66,
     "metadata": {},
     "output_type": "execute_result"
    },
    {
     "data": {
      "image/png": "[encoded data removed]",
      "text/plain": [
       "<matplotlib.figure.Figure at 0x10f1dac18>"
      ]
     },
     "metadata": {},
     "output_type": "display_data"
    }
   ],
   "source": [
    "(daily_vol_2day/ daily_vol_3day).hist(bins=50)"
   ]
  },
  {
   "cell_type": "code",
   "execution_count": null,
   "metadata": {
    "collapsed": true
   },
   "outputs": [],
   "source": []
  }
 ],
 "metadata": {
  "kernelspec": {
   "display_name": "Python 3",
   "language": "python",
   "name": "python3"
  },
  "language_info": {
   "codemirror_mode": {
    "name": "ipython",
    "version": 3
   },
   "file_extension": ".py",
   "mimetype": "text/x-python",
   "name": "python",
   "nbconvert_exporter": "python",
   "pygments_lexer": "ipython3",
   "version": "3.4.3"
  }
 },
 "nbformat": 4,
 "nbformat_minor": 0
}
