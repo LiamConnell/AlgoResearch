{
 "cells": [
  {
   "cell_type": "code",
   "execution_count": 26,
   "metadata": {
    "collapsed": false
   },
   "outputs": [
    {
     "name": "stdout",
     "output_type": "stream",
     "text": [
      "Populating the interactive namespace from numpy and matplotlib\n"
     ]
    }
   ],
   "source": [
    "%pylab inline"
   ]
  },
  {
   "cell_type": "code",
   "execution_count": 246,
   "metadata": {
    "collapsed": true
   },
   "outputs": [],
   "source": [
    "import pandas as pd\n",
    "import get_symbols\n",
    "import os, re\n",
    "import pandas.io.data as web\n",
    "import numpy as np\n",
    "\n",
    "from matplotlib import pyplot as plt"
   ]
  },
  {
   "cell_type": "code",
   "execution_count": 222,
   "metadata": {
    "collapsed": true
   },
   "outputs": [],
   "source": [
    "symbolsDF = pd.read_pickle('../data/symbolsDF.pkl')\n"
   ]
  },
  {
   "cell_type": "code",
   "execution_count": 10,
   "metadata": {
    "collapsed": false
   },
   "outputs": [],
   "source": [
    "symbolsDF['test'] = False"
   ]
  },
  {
   "cell_type": "code",
   "execution_count": 7,
   "metadata": {
    "collapsed": false
   },
   "outputs": [],
   "source": [
    "symbolsDF.columns = ['symbols']"
   ]
  },
  {
   "cell_type": "code",
   "execution_count": 223,
   "metadata": {
    "collapsed": false
   },
   "outputs": [
    {
     "data": {
      "text/html": [
       "<div>\n",
       "<table border=\"1\" class=\"dataframe\">\n",
       "  <thead>\n",
       "    <tr style=\"text-align: right;\">\n",
       "      <th></th>\n",
       "      <th>symbols</th>\n",
       "      <th>smoothing_fns</th>\n",
       "      <th>kalman</th>\n",
       "    </tr>\n",
       "    <tr>\n",
       "      <th>symbols</th>\n",
       "      <th></th>\n",
       "      <th></th>\n",
       "      <th></th>\n",
       "    </tr>\n",
       "  </thead>\n",
       "  <tbody>\n",
       "    <tr>\n",
       "      <th>AES</th>\n",
       "      <td>AES</td>\n",
       "      <td>True</td>\n",
       "      <td>True</td>\n",
       "    </tr>\n",
       "    <tr>\n",
       "      <th>GAS</th>\n",
       "      <td>GAS</td>\n",
       "      <td>True</td>\n",
       "      <td>True</td>\n",
       "    </tr>\n",
       "    <tr>\n",
       "      <th>AEE</th>\n",
       "      <td>AEE</td>\n",
       "      <td>True</td>\n",
       "      <td>True</td>\n",
       "    </tr>\n",
       "    <tr>\n",
       "      <th>AEP</th>\n",
       "      <td>AEP</td>\n",
       "      <td>True</td>\n",
       "      <td>True</td>\n",
       "    </tr>\n",
       "    <tr>\n",
       "      <th>AWK</th>\n",
       "      <td>AWK</td>\n",
       "      <td>True</td>\n",
       "      <td>True</td>\n",
       "    </tr>\n",
       "    <tr>\n",
       "      <th>CNP</th>\n",
       "      <td>CNP</td>\n",
       "      <td>True</td>\n",
       "      <td>True</td>\n",
       "    </tr>\n",
       "    <tr>\n",
       "      <th>CMS</th>\n",
       "      <td>CMS</td>\n",
       "      <td>True</td>\n",
       "      <td>True</td>\n",
       "    </tr>\n",
       "    <tr>\n",
       "      <th>ED</th>\n",
       "      <td>ED</td>\n",
       "      <td>True</td>\n",
       "      <td>True</td>\n",
       "    </tr>\n",
       "    <tr>\n",
       "      <th>D</th>\n",
       "      <td>D</td>\n",
       "      <td>True</td>\n",
       "      <td>True</td>\n",
       "    </tr>\n",
       "    <tr>\n",
       "      <th>DTE</th>\n",
       "      <td>DTE</td>\n",
       "      <td>True</td>\n",
       "      <td>True</td>\n",
       "    </tr>\n",
       "    <tr>\n",
       "      <th>DUK</th>\n",
       "      <td>DUK</td>\n",
       "      <td>True</td>\n",
       "      <td>False</td>\n",
       "    </tr>\n",
       "    <tr>\n",
       "      <th>EIX</th>\n",
       "      <td>EIX</td>\n",
       "      <td>True</td>\n",
       "      <td>False</td>\n",
       "    </tr>\n",
       "    <tr>\n",
       "      <th>ETR</th>\n",
       "      <td>ETR</td>\n",
       "      <td>True</td>\n",
       "      <td>False</td>\n",
       "    </tr>\n",
       "    <tr>\n",
       "      <th>ES</th>\n",
       "      <td>ES</td>\n",
       "      <td>True</td>\n",
       "      <td>False</td>\n",
       "    </tr>\n",
       "    <tr>\n",
       "      <th>EXC</th>\n",
       "      <td>EXC</td>\n",
       "      <td>True</td>\n",
       "      <td>False</td>\n",
       "    </tr>\n",
       "  </tbody>\n",
       "</table>\n",
       "</div>"
      ],
      "text/plain": [
       "        symbols smoothing_fns kalman\n",
       "symbols                             \n",
       "AES         AES          True   True\n",
       "GAS         GAS          True   True\n",
       "AEE         AEE          True   True\n",
       "AEP         AEP          True   True\n",
       "AWK         AWK          True   True\n",
       "CNP         CNP          True   True\n",
       "CMS         CMS          True   True\n",
       "ED           ED          True   True\n",
       "D             D          True   True\n",
       "DTE         DTE          True   True\n",
       "DUK         DUK          True  False\n",
       "EIX         EIX          True  False\n",
       "ETR         ETR          True  False\n",
       "ES           ES          True  False\n",
       "EXC         EXC          True  False"
      ]
     },
     "execution_count": 223,
     "metadata": {},
     "output_type": "execute_result"
    }
   ],
   "source": [
    "symbolsDF.head(15)"
   ]
  },
  {
   "cell_type": "code",
   "execution_count": 105,
   "metadata": {
    "collapsed": false
   },
   "outputs": [
    {
     "data": {
      "text/plain": [
       "False"
      ]
     },
     "execution_count": 105,
     "metadata": {},
     "output_type": "execute_result"
    }
   ],
   "source": [
    "'smoothing_fns' not in symbolsDF.columns\n"
   ]
  },
  {
   "cell_type": "code",
   "execution_count": 22,
   "metadata": {
    "collapsed": false
   },
   "outputs": [
    {
     "name": "stderr",
     "output_type": "stream",
     "text": [
      "/Users/liamconnell/anaconda/lib/python3.4/site-packages/IPython/kernel/__main__.py:1: SettingWithCopyWarning: \n",
      "A value is trying to be set on a copy of a slice from a DataFrame\n",
      "\n",
      "See the the caveats in the documentation: http://pandas.pydata.org/pandas-docs/stable/indexing.html#indexing-view-versus-copy\n",
      "  if __name__ == '__main__':\n"
     ]
    }
   ],
   "source": [
    "symbolsDF['test']['T'] = True"
   ]
  },
  {
   "cell_type": "code",
   "execution_count": 20,
   "metadata": {
    "collapsed": true
   },
   "outputs": [],
   "source": [
    "symbolsDF.index = symbolsDF.symbols"
   ]
  },
  {
   "cell_type": "code",
   "execution_count": 226,
   "metadata": {
    "collapsed": true
   },
   "outputs": [],
   "source": [
    "df = pd.read_pickle('../data/data_2007-05-02_2016-04-11/GS.pkl')"
   ]
  },
  {
   "cell_type": "code",
   "execution_count": 244,
   "metadata": {
    "collapsed": false,
    "scrolled": true
   },
   "outputs": [
    {
     "data": {
      "text/html": [
       "<div>\n",
       "<table border=\"1\" class=\"dataframe\">\n",
       "  <thead>\n",
       "    <tr style=\"text-align: right;\">\n",
       "      <th></th>\n",
       "      <th>Open</th>\n",
       "      <th>High</th>\n",
       "      <th>Low</th>\n",
       "      <th>Close</th>\n",
       "      <th>Volume</th>\n",
       "      <th>Adj Close</th>\n",
       "      <th>smooth_predict_100</th>\n",
       "      <th>smooth_slope_100</th>\n",
       "      <th>resids</th>\n",
       "      <th>test</th>\n",
       "      <th>daily_rets</th>\n",
       "    </tr>\n",
       "    <tr>\n",
       "      <th>Date</th>\n",
       "      <th></th>\n",
       "      <th></th>\n",
       "      <th></th>\n",
       "      <th></th>\n",
       "      <th></th>\n",
       "      <th></th>\n",
       "      <th></th>\n",
       "      <th></th>\n",
       "      <th></th>\n",
       "      <th></th>\n",
       "      <th></th>\n",
       "    </tr>\n",
       "  </thead>\n",
       "  <tbody>\n",
       "    <tr>\n",
       "      <th>2007-05-02</th>\n",
       "      <td>220.389999</td>\n",
       "      <td>221.929993</td>\n",
       "      <td>218.550003</td>\n",
       "      <td>221.559998</td>\n",
       "      <td>4414600</td>\n",
       "      <td>199.419681</td>\n",
       "      <td>NaN</td>\n",
       "      <td>NaN</td>\n",
       "      <td>NaN</td>\n",
       "      <td>0</td>\n",
       "      <td>0.026088</td>\n",
       "    </tr>\n",
       "    <tr>\n",
       "      <th>2007-05-03</th>\n",
       "      <td>222.600006</td>\n",
       "      <td>227.339996</td>\n",
       "      <td>221.429993</td>\n",
       "      <td>227.339996</td>\n",
       "      <td>5632300</td>\n",
       "      <td>204.622089</td>\n",
       "      <td>NaN</td>\n",
       "      <td>NaN</td>\n",
       "      <td>NaN</td>\n",
       "      <td>0</td>\n",
       "      <td>-0.000528</td>\n",
       "    </tr>\n",
       "    <tr>\n",
       "      <th>2007-05-04</th>\n",
       "      <td>227.000000</td>\n",
       "      <td>229.899994</td>\n",
       "      <td>225.600006</td>\n",
       "      <td>227.220001</td>\n",
       "      <td>4637000</td>\n",
       "      <td>204.514085</td>\n",
       "      <td>NaN</td>\n",
       "      <td>NaN</td>\n",
       "      <td>NaN</td>\n",
       "      <td>0</td>\n",
       "      <td>-0.009990</td>\n",
       "    </tr>\n",
       "    <tr>\n",
       "      <th>2007-05-07</th>\n",
       "      <td>225.919998</td>\n",
       "      <td>225.990005</td>\n",
       "      <td>222.960007</td>\n",
       "      <td>224.949997</td>\n",
       "      <td>4879700</td>\n",
       "      <td>202.470921</td>\n",
       "      <td>NaN</td>\n",
       "      <td>NaN</td>\n",
       "      <td>NaN</td>\n",
       "      <td>0</td>\n",
       "      <td>0.007202</td>\n",
       "    </tr>\n",
       "    <tr>\n",
       "      <th>2007-05-08</th>\n",
       "      <td>224.949997</td>\n",
       "      <td>227.679993</td>\n",
       "      <td>223.350006</td>\n",
       "      <td>226.570007</td>\n",
       "      <td>5195100</td>\n",
       "      <td>203.929045</td>\n",
       "      <td>NaN</td>\n",
       "      <td>NaN</td>\n",
       "      <td>NaN</td>\n",
       "      <td>0</td>\n",
       "      <td>-0.015315</td>\n",
       "    </tr>\n",
       "  </tbody>\n",
       "</table>\n",
       "</div>"
      ],
      "text/plain": [
       "                  Open        High         Low       Close   Volume  \\\n",
       "Date                                                                  \n",
       "2007-05-02  220.389999  221.929993  218.550003  221.559998  4414600   \n",
       "2007-05-03  222.600006  227.339996  221.429993  227.339996  5632300   \n",
       "2007-05-04  227.000000  229.899994  225.600006  227.220001  4637000   \n",
       "2007-05-07  225.919998  225.990005  222.960007  224.949997  4879700   \n",
       "2007-05-08  224.949997  227.679993  223.350006  226.570007  5195100   \n",
       "\n",
       "             Adj Close  smooth_predict_100  smooth_slope_100  resids test  \\\n",
       "Date                                                                        \n",
       "2007-05-02  199.419681                 NaN               NaN     NaN    0   \n",
       "2007-05-03  204.622089                 NaN               NaN     NaN    0   \n",
       "2007-05-04  204.514085                 NaN               NaN     NaN    0   \n",
       "2007-05-07  202.470921                 NaN               NaN     NaN    0   \n",
       "2007-05-08  203.929045                 NaN               NaN     NaN    0   \n",
       "\n",
       "            daily_rets  \n",
       "Date                    \n",
       "2007-05-02    0.026088  \n",
       "2007-05-03   -0.000528  \n",
       "2007-05-04   -0.009990  \n",
       "2007-05-07    0.007202  \n",
       "2007-05-08   -0.015315  "
      ]
     },
     "execution_count": 244,
     "metadata": {},
     "output_type": "execute_result"
    }
   ],
   "source": [
    "df.shift(-1).head()"
   ]
  },
  {
   "cell_type": "code",
   "execution_count": 231,
   "metadata": {
    "collapsed": false
   },
   "outputs": [],
   "source": [
    "df['daily_rets'] = (df['Adj Close'].shift(-1) - df['Adj Close']) / df['Adj Close']"
   ]
  },
  {
   "cell_type": "code",
   "execution_count": 243,
   "metadata": {
    "collapsed": false
   },
   "outputs": [
    {
     "name": "stderr",
     "output_type": "stream",
     "text": [
      "/Users/liamconnell/anaconda/lib/python3.4/site-packages/IPython/kernel/__main__.py:1: SettingWithCopyWarning: \n",
      "A value is trying to be set on a copy of a slice from a DataFrame\n",
      "\n",
      "See the the caveats in the documentation: http://pandas.pydata.org/pandas-docs/stable/indexing.html#indexing-view-versus-copy\n",
      "  if __name__ == '__main__':\n"
     ]
    }
   ],
   "source": [
    "df['test'][df['test']=='nan'] = 0"
   ]
  },
  {
   "cell_type": "code",
   "execution_count": 247,
   "metadata": {
    "collapsed": false
   },
   "outputs": [
    {
     "data": {
      "text/plain": [
       "[<matplotlib.lines.Line2D at 0x10ffa1748>]"
      ]
     },
     "execution_count": 247,
     "metadata": {},
     "output_type": "execute_result"
    },
    {
     "data": {
      "image/png": "[encoded data removed]",
      "text/plain": [
       "<matplotlib.figure.Figure at 0x1108826d8>"
      ]
     },
     "metadata": {},
     "output_type": "display_data"
    }
   ],
   "source": [
    "plot(np.cumprod(df['daily_rets']*df.test +1))"
   ]
  },
  {
   "cell_type": "code",
   "execution_count": null,
   "metadata": {
    "collapsed": true
   },
   "outputs": [],
   "source": []
  },
  {
   "cell_type": "code",
   "execution_count": null,
   "metadata": {
    "collapsed": true
   },
   "outputs": [],
   "source": []
  },
  {
   "cell_type": "code",
   "execution_count": null,
   "metadata": {
    "collapsed": true
   },
   "outputs": [],
   "source": []
  },
  {
   "cell_type": "code",
   "execution_count": 125,
   "metadata": {
    "collapsed": false
   },
   "outputs": [
    {
     "data": {
      "text/plain": [
       "[<matplotlib.lines.Line2D at 0x10bddc860>]"
      ]
     },
     "execution_count": 125,
     "metadata": {},
     "output_type": "execute_result"
    },
    {
     "data": {
      "image/png": "[encoded data removed]",
      "text/plain": [
       "<matplotlib.figure.Figure at 0x10bd2f320>"
      ]
     },
     "metadata": {},
     "output_type": "display_data"
    }
   ],
   "source": [
    "plot(gs.index,gs['Adj Close'])\n",
    "plot(gs.index,gs.smooth_predict_100)\n"
   ]
  },
  {
   "cell_type": "code",
   "execution_count": 217,
   "metadata": {
    "collapsed": false
   },
   "outputs": [
    {
     "data": {
      "text/plain": [
       "[<matplotlib.lines.Line2D at 0x10f673c50>]"
      ]
     },
     "execution_count": 217,
     "metadata": {},
     "output_type": "execute_result"
    },
    {
     "data": {
      "image/png": "[encoded data removed]",
      "text/plain": [
       "<matplotlib.figure.Figure at 0x10f673c88>"
      ]
     },
     "metadata": {},
     "output_type": "display_data"
    }
   ],
   "source": [
    "plot(df['resids'])\n",
    "#plot((df['resids']==pd.rolling_min(df['resids'], 10)))\n",
    "#plot(df['resids']<0)\n",
    "\n",
    "plot(((df['resids']==pd.rolling_min(df['resids'], 10)).astype(int) + \n",
    "      (df['resids']<0).astype(int))==2)\n"
   ]
  },
  {
   "cell_type": "code",
   "execution_count": 196,
   "metadata": {
    "collapsed": false
   },
   "outputs": [
    {
     "data": {
      "text/plain": [
       "[<matplotlib.lines.Line2D at 0x10e04ba20>]"
      ]
     },
     "execution_count": 196,
     "metadata": {},
     "output_type": "execute_result"
    },
    {
     "data": {
      "image/png": "[encoded data removed]",
      "text/plain": [
       "<matplotlib.figure.Figure at 0x10dfc40b8>"
      ]
     },
     "metadata": {},
     "output_type": "display_data"
    }
   ],
   "source": [
    "plot(df['resids'])\n",
    "plot(pd.rolling_max(df['resids'], 10))\n",
    "plot(pd.rolling_min(df['resids'], 10))\n",
    "plot((df['resids']==pd.rolling_min(df['resids'], 10)) & df['resids']>0)"
   ]
  },
  {
   "cell_type": "code",
   "execution_count": 220,
   "metadata": {
    "collapsed": false
   },
   "outputs": [
    {
     "name": "stderr",
     "output_type": "stream",
     "text": [
      "/Users/liamconnell/anaconda/lib/python3.4/site-packages/IPython/kernel/__main__.py:3: SettingWithCopyWarning: \n",
      "A value is trying to be set on a copy of a slice from a DataFrame\n",
      "\n",
      "See the the caveats in the documentation: http://pandas.pydata.org/pandas-docs/stable/indexing.html#indexing-view-versus-copy\n",
      "  app.launch_new_instance()\n",
      "/Users/liamconnell/anaconda/lib/python3.4/site-packages/IPython/kernel/__main__.py:5: SettingWithCopyWarning: \n",
      "A value is trying to be set on a copy of a slice from a DataFrame\n",
      "\n",
      "See the the caveats in the documentation: http://pandas.pydata.org/pandas-docs/stable/indexing.html#indexing-view-versus-copy\n",
      "/Users/liamconnell/anaconda/lib/python3.4/site-packages/IPython/kernel/__main__.py:7: SettingWithCopyWarning: \n",
      "A value is trying to be set on a copy of a slice from a DataFrame\n",
      "\n",
      "See the the caveats in the documentation: http://pandas.pydata.org/pandas-docs/stable/indexing.html#indexing-view-versus-copy\n"
     ]
    }
   ],
   "source": [
    "df['resids'] = df['Adj Close']-df['smooth_predict_100']\n",
    "df['pos'] = ((df['resids']>0)-.5)*2\n",
    "df['pos'][df['resids'].isnull()] = nan\n",
    "df['pos'][((df['resids']==pd.rolling_max(df['resids'], 10)).astype(int) + \n",
    "      (df['resids']>0).astype(int))==2]=0\n",
    "df['pos'][((df['resids']==pd.rolling_min(df['resids'], 10)).astype(int) + \n",
    "      (df['resids']<0).astype(int))==2]=0\n",
    "\n"
   ]
  },
  {
   "cell_type": "code",
   "execution_count": 221,
   "metadata": {
    "collapsed": false
   },
   "outputs": [
    {
     "data": {
      "text/plain": [
       "[<matplotlib.lines.Line2D at 0x10f161a90>]"
      ]
     },
     "execution_count": 221,
     "metadata": {},
     "output_type": "execute_result"
    },
    {
     "data": {
      "image/png": "[encoded data removed]",
      "text/plain": [
       "<matplotlib.figure.Figure at 0x10f161b00>"
      ]
     },
     "metadata": {},
     "output_type": "display_data"
    }
   ],
   "source": [
    "plot(df['resids'])\n",
    "plot(df['pos'])"
   ]
  },
  {
   "cell_type": "code",
   "execution_count": 32,
   "metadata": {
    "collapsed": false
   },
   "outputs": [],
   "source": [
    "import filterpy as fp\n",
    "from filterpy.kalman import predict, update"
   ]
  },
  {
   "cell_type": "code",
   "execution_count": 33,
   "metadata": {
    "collapsed": false
   },
   "outputs": [
    {
     "data": {
      "text/html": [
       "<div>\n",
       "<table border=\"1\" class=\"dataframe\">\n",
       "  <thead>\n",
       "    <tr style=\"text-align: right;\">\n",
       "      <th></th>\n",
       "      <th>Open</th>\n",
       "      <th>High</th>\n",
       "      <th>Low</th>\n",
       "      <th>Close</th>\n",
       "      <th>Volume</th>\n",
       "      <th>Adj Close</th>\n",
       "    </tr>\n",
       "    <tr>\n",
       "      <th>Date</th>\n",
       "      <th></th>\n",
       "      <th></th>\n",
       "      <th></th>\n",
       "      <th></th>\n",
       "      <th></th>\n",
       "      <th></th>\n",
       "    </tr>\n",
       "  </thead>\n",
       "  <tbody>\n",
       "    <tr>\n",
       "      <th>2007-05-02</th>\n",
       "      <td>218.000000</td>\n",
       "      <td>221.919998</td>\n",
       "      <td>217.449997</td>\n",
       "      <td>219.490005</td>\n",
       "      <td>4859500</td>\n",
       "      <td>197.556542</td>\n",
       "    </tr>\n",
       "    <tr>\n",
       "      <th>2007-05-03</th>\n",
       "      <td>220.389999</td>\n",
       "      <td>221.929993</td>\n",
       "      <td>218.550003</td>\n",
       "      <td>221.559998</td>\n",
       "      <td>4414600</td>\n",
       "      <td>199.419681</td>\n",
       "    </tr>\n",
       "    <tr>\n",
       "      <th>2007-05-04</th>\n",
       "      <td>222.600006</td>\n",
       "      <td>227.339996</td>\n",
       "      <td>221.429993</td>\n",
       "      <td>227.339996</td>\n",
       "      <td>5632300</td>\n",
       "      <td>204.622089</td>\n",
       "    </tr>\n",
       "    <tr>\n",
       "      <th>2007-05-07</th>\n",
       "      <td>227.000000</td>\n",
       "      <td>229.899994</td>\n",
       "      <td>225.600006</td>\n",
       "      <td>227.220001</td>\n",
       "      <td>4637000</td>\n",
       "      <td>204.514085</td>\n",
       "    </tr>\n",
       "    <tr>\n",
       "      <th>2007-05-08</th>\n",
       "      <td>225.919998</td>\n",
       "      <td>225.990005</td>\n",
       "      <td>222.960007</td>\n",
       "      <td>224.949997</td>\n",
       "      <td>4879700</td>\n",
       "      <td>202.470921</td>\n",
       "    </tr>\n",
       "  </tbody>\n",
       "</table>\n",
       "</div>"
      ],
      "text/plain": [
       "                  Open        High         Low       Close   Volume  \\\n",
       "Date                                                                  \n",
       "2007-05-02  218.000000  221.919998  217.449997  219.490005  4859500   \n",
       "2007-05-03  220.389999  221.929993  218.550003  221.559998  4414600   \n",
       "2007-05-04  222.600006  227.339996  221.429993  227.339996  5632300   \n",
       "2007-05-07  227.000000  229.899994  225.600006  227.220001  4637000   \n",
       "2007-05-08  225.919998  225.990005  222.960007  224.949997  4879700   \n",
       "\n",
       "             Adj Close  \n",
       "Date                    \n",
       "2007-05-02  197.556542  \n",
       "2007-05-03  199.419681  \n",
       "2007-05-04  204.622089  \n",
       "2007-05-07  204.514085  \n",
       "2007-05-08  202.470921  "
      ]
     },
     "execution_count": 33,
     "metadata": {},
     "output_type": "execute_result"
    }
   ],
   "source": [
    "gs.head()"
   ]
  },
  {
   "cell_type": "code",
   "execution_count": 34,
   "metadata": {
    "collapsed": true
   },
   "outputs": [],
   "source": [
    "import smoothing_fns as sf"
   ]
  },
  {
   "cell_type": "code",
   "execution_count": 55,
   "metadata": {
    "collapsed": true
   },
   "outputs": [],
   "source": [
    "filtered, bs = sf.get_smooth_val(gs['Adj Close'], 100)"
   ]
  },
  {
   "cell_type": "code",
   "execution_count": 37,
   "metadata": {
    "collapsed": false
   },
   "outputs": [],
   "source": [
    "xs, cov = sf.run(data = gs)"
   ]
  },
  {
   "cell_type": "code",
   "execution_count": 80,
   "metadata": {
    "collapsed": false
   },
   "outputs": [
    {
     "data": {
      "text/plain": [
       "array([  1.00000000e+03,   2.69936770e+02,   3.33027822e+01, ...,\n",
       "         9.97410097e-03,   9.97846396e-03,   9.97610188e-03])"
      ]
     },
     "execution_count": 80,
     "metadata": {},
     "output_type": "execute_result"
    }
   ],
   "source": [
    "cov[:,0,0]"
   ]
  },
  {
   "cell_type": "code",
   "execution_count": 89,
   "metadata": {
    "collapsed": false
   },
   "outputs": [],
   "source": [
    "gs['asd'] = bs"
   ]
  },
  {
   "cell_type": "code",
   "execution_count": 61,
   "metadata": {
    "collapsed": false
   },
   "outputs": [
    {
     "data": {
      "text/plain": [
       "[<matplotlib.lines.Line2D at 0x10b444240>]"
      ]
     },
     "execution_count": 61,
     "metadata": {},
     "output_type": "execute_result"
    },
    {
     "data": {
      "image/png": "[encoded data removed]",
      "text/plain": [
       "<matplotlib.figure.Figure at 0x10b454be0>"
      ]
     },
     "metadata": {},
     "output_type": "display_data"
    }
   ],
   "source": [
    "#plot(gs.index, xs[:,0])\n",
    "plot(gs.index, filtered)\n",
    "plot(gs.index,gs['Adj Close'])"
   ]
  },
  {
   "cell_type": "code",
   "execution_count": 45,
   "metadata": {
    "collapsed": true
   },
   "outputs": [],
   "source": [
    "gs['kalman_filter'] = xs[:,0]"
   ]
  },
  {
   "cell_type": "code",
   "execution_count": 46,
   "metadata": {
    "collapsed": false
   },
   "outputs": [
    {
     "data": {
      "text/html": [
       "<div>\n",
       "<table border=\"1\" class=\"dataframe\">\n",
       "  <thead>\n",
       "    <tr style=\"text-align: right;\">\n",
       "      <th></th>\n",
       "      <th>Open</th>\n",
       "      <th>High</th>\n",
       "      <th>Low</th>\n",
       "      <th>Close</th>\n",
       "      <th>Volume</th>\n",
       "      <th>Adj Close</th>\n",
       "      <th>kalman_filter</th>\n",
       "    </tr>\n",
       "    <tr>\n",
       "      <th>Date</th>\n",
       "      <th></th>\n",
       "      <th></th>\n",
       "      <th></th>\n",
       "      <th></th>\n",
       "      <th></th>\n",
       "      <th></th>\n",
       "      <th></th>\n",
       "    </tr>\n",
       "  </thead>\n",
       "  <tbody>\n",
       "    <tr>\n",
       "      <th>2007-05-02</th>\n",
       "      <td>218.000000</td>\n",
       "      <td>221.919998</td>\n",
       "      <td>217.449997</td>\n",
       "      <td>219.490005</td>\n",
       "      <td>4859500</td>\n",
       "      <td>197.556542</td>\n",
       "      <td>200.000000</td>\n",
       "    </tr>\n",
       "    <tr>\n",
       "      <th>2007-05-03</th>\n",
       "      <td>220.389999</td>\n",
       "      <td>221.929993</td>\n",
       "      <td>218.550003</td>\n",
       "      <td>221.559998</td>\n",
       "      <td>4414600</td>\n",
       "      <td>199.419681</td>\n",
       "      <td>228.975962</td>\n",
       "    </tr>\n",
       "    <tr>\n",
       "      <th>2007-05-04</th>\n",
       "      <td>222.600006</td>\n",
       "      <td>227.339996</td>\n",
       "      <td>221.429993</td>\n",
       "      <td>227.339996</td>\n",
       "      <td>5632300</td>\n",
       "      <td>204.622089</td>\n",
       "      <td>224.521274</td>\n",
       "    </tr>\n",
       "    <tr>\n",
       "      <th>2007-05-07</th>\n",
       "      <td>227.000000</td>\n",
       "      <td>229.899994</td>\n",
       "      <td>225.600006</td>\n",
       "      <td>227.220001</td>\n",
       "      <td>4637000</td>\n",
       "      <td>204.514085</td>\n",
       "      <td>230.658430</td>\n",
       "    </tr>\n",
       "    <tr>\n",
       "      <th>2007-05-08</th>\n",
       "      <td>225.919998</td>\n",
       "      <td>225.990005</td>\n",
       "      <td>222.960007</td>\n",
       "      <td>224.949997</td>\n",
       "      <td>4879700</td>\n",
       "      <td>202.470921</td>\n",
       "      <td>231.103076</td>\n",
       "    </tr>\n",
       "  </tbody>\n",
       "</table>\n",
       "</div>"
      ],
      "text/plain": [
       "                  Open        High         Low       Close   Volume  \\\n",
       "Date                                                                  \n",
       "2007-05-02  218.000000  221.919998  217.449997  219.490005  4859500   \n",
       "2007-05-03  220.389999  221.929993  218.550003  221.559998  4414600   \n",
       "2007-05-04  222.600006  227.339996  221.429993  227.339996  5632300   \n",
       "2007-05-07  227.000000  229.899994  225.600006  227.220001  4637000   \n",
       "2007-05-08  225.919998  225.990005  222.960007  224.949997  4879700   \n",
       "\n",
       "             Adj Close  kalman_filter  \n",
       "Date                                   \n",
       "2007-05-02  197.556542     200.000000  \n",
       "2007-05-03  199.419681     228.975962  \n",
       "2007-05-04  204.622089     224.521274  \n",
       "2007-05-07  204.514085     230.658430  \n",
       "2007-05-08  202.470921     231.103076  "
      ]
     },
     "execution_count": 46,
     "metadata": {},
     "output_type": "execute_result"
    }
   ],
   "source": [
    "gs.head()"
   ]
  },
  {
   "cell_type": "code",
   "execution_count": 66,
   "metadata": {
    "collapsed": true
   },
   "outputs": [],
   "source": [
    "gs.head().to_pickle('test')"
   ]
  },
  {
   "cell_type": "code",
   "execution_count": null,
   "metadata": {
    "collapsed": true
   },
   "outputs": [],
   "source": []
  }
 ],
 "metadata": {
  "kernelspec": {
   "display_name": "Python 3",
   "language": "python",
   "name": "python3"
  },
  "language_info": {
   "codemirror_mode": {
    "name": "ipython",
    "version": 3
   },
   "file_extension": ".py",
   "mimetype": "text/x-python",
   "name": "python",
   "nbconvert_exporter": "python",
   "pygments_lexer": "ipython3",
   "version": "3.4.3"
  }
 },
 "nbformat": 4,
 "nbformat_minor": 0
}
