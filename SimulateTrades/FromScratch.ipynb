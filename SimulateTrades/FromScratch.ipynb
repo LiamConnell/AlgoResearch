
# coding: utf-8

# In[481]:

get_ipython().magic('pylab inline')
import sys
import pandas as pd
import numpy as np
import datetime
from pykalman import KalmanFilter
import matplotlib.pyplot as plt
from yahoo_finance import Share


# In[482]:

symbol="XLF"
marketdata=Share(symbol)
data=marketdata.get_historical('2010-01-10','2016-04-28' )
data=pd.DataFrame(data)
prices=data.Adj_Close
prices=np.asarray(list(prices))
prices=prices.astype(float)


# In[483]:

kf=KalmanFilter(transition_matrices=[[1,1],[0,1]],observation_matrices=[[1,0]],initial_state_mean=[prices[0],0],transition_covariance=[[.0035,0],[0,0.0035]],observation_covariance=10)
# kf=kf.em(prices,n_iter=5)
(a,b)=kf.filter(prices)


# In[484]:

plt.plot(a[:,0],'r-')
plt.plot(prices,'b-')
plt.show()


# In[485]:

c=prices-a[:,0]
plt.plot(c)
plt.show


# In[486]:

plt.plot(a[:,1])
plt.show


# In[487]:


diffdiff=c
max=0
signal=0
buysell= []
threshold=5
for i in range(1,len(diffdiff)):
    if (abs(diffdiff[i])> max):
            max=abs(diffdiff[i])
            signal=0
    else:
        if (diffdiff[i]>0):
            signal = -1
        else:
            signal = 1
    if(diffdiff[i]*diffdiff[i-1]<= 0):
        signal=0
        max=abs(diffdiff[i])
    buysell.append(signal)


# In[488]:

len(buysell), len(diffdiff)


# In[489]:

len(diffdiff[1:])


# In[490]:

d=pd.DataFrame(buysell,diffdiff[1:])


# In[491]:

returns=(prices[1:]-prices[0:-1])/prices[0:-1]
tradereturns=returns*buysell


# In[492]:

plt.plot(np.cumprod(1+tradereturns))
plt.show()


# In[493]:

plt.plot(buysell)
plt.show()

