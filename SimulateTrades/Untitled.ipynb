{
 "cells": [
  {
   "cell_type": "code",
   "execution_count": 1,
   "metadata": {
    "collapsed": false
   },
   "outputs": [
    {
     "name": "stdout",
     "output_type": "stream",
     "text": [
      "Populating the interactive namespace from numpy and matplotlib\n"
     ]
    }
   ],
   "source": [
    "%pylab inline\n",
    "import pandas as pd\n",
    "import numpy as np\n",
    "from matplotlib import pyplot"
   ]
  },
  {
   "cell_type": "code",
   "execution_count": 2,
   "metadata": {
    "collapsed": true
   },
   "outputs": [],
   "source": [
    "df = pd.read_pickle('../data/kal_returnsDF.pkl')"
   ]
  },
  {
   "cell_type": "code",
   "execution_count": 6,
   "metadata": {
    "collapsed": true
   },
   "outputs": [],
   "source": [
    "symbolsDF = pd.read_pickle('../data/symbolsDF.pkl')\n",
    "start, end = '2007-05-02', '2016-04-11'                        #variable here\n",
    "datadir_name = '_'.join(('data', start, end))\n",
    "datadir_path = ''.join(('../data/', datadir_name))"
   ]
  },
  {
   "cell_type": "code",
   "execution_count": 4,
   "metadata": {
    "collapsed": false
   },
   "outputs": [],
   "source": [
    "def get_returns(symbol, return_col = 'returns'):\n",
    "    df = pd.read_pickle(''.join((datadir_path, '/', symbol, '.pkl')))\n",
    "    if return_col not in symbolsDF.columns:\n",
    "        df['daily_rets'] = (df['Adj Close'].shift(-1) - df['Adj Close']) / df['Adj Close']\n",
    "        #df[return_col]= np.cumprod(df['daily_rets']*df.test +1)\n",
    "        df[return_col]= df['daily_rets']*df.test\n",
    "        df.to_pickle(''.join((datadir_path, '/', symbol, '.pkl')))\n",
    "    return df"
   ]
  },
  {
   "cell_type": "code",
   "execution_count": 7,
   "metadata": {
    "collapsed": false
   },
   "outputs": [],
   "source": [
    "df = get_returns('GS')"
   ]
  },
  {
   "cell_type": "code",
   "execution_count": 8,
   "metadata": {
    "collapsed": false
   },
   "outputs": [
    {
     "data": {
      "text/html": [
       "<div>\n",
       "<table border=\"1\" class=\"dataframe\">\n",
       "  <thead>\n",
       "    <tr style=\"text-align: right;\">\n",
       "      <th></th>\n",
       "      <th>Open</th>\n",
       "      <th>High</th>\n",
       "      <th>Low</th>\n",
       "      <th>Close</th>\n",
       "      <th>Volume</th>\n",
       "      <th>Adj Close</th>\n",
       "      <th>smooth_predict_100</th>\n",
       "      <th>smooth_slope_100</th>\n",
       "      <th>resids</th>\n",
       "      <th>test</th>\n",
       "      <th>...</th>\n",
       "      <th>kalman_a</th>\n",
       "      <th>kalman_b</th>\n",
       "      <th>kalman_c</th>\n",
       "      <th>kalman_d</th>\n",
       "      <th>test_kal</th>\n",
       "      <th>kal_returns</th>\n",
       "      <th>kal_pos</th>\n",
       "      <th>change_sign</th>\n",
       "      <th>max_</th>\n",
       "      <th>min_</th>\n",
       "    </tr>\n",
       "    <tr>\n",
       "      <th>Date</th>\n",
       "      <th></th>\n",
       "      <th></th>\n",
       "      <th></th>\n",
       "      <th></th>\n",
       "      <th></th>\n",
       "      <th></th>\n",
       "      <th></th>\n",
       "      <th></th>\n",
       "      <th></th>\n",
       "      <th></th>\n",
       "      <th></th>\n",
       "      <th></th>\n",
       "      <th></th>\n",
       "      <th></th>\n",
       "      <th></th>\n",
       "      <th></th>\n",
       "      <th></th>\n",
       "      <th></th>\n",
       "      <th></th>\n",
       "      <th></th>\n",
       "      <th></th>\n",
       "    </tr>\n",
       "  </thead>\n",
       "  <tbody>\n",
       "    <tr>\n",
       "      <th>2007-05-02</th>\n",
       "      <td>218.000000</td>\n",
       "      <td>221.919998</td>\n",
       "      <td>217.449997</td>\n",
       "      <td>219.490005</td>\n",
       "      <td>4859500</td>\n",
       "      <td>197.556542</td>\n",
       "      <td>NaN</td>\n",
       "      <td>NaN</td>\n",
       "      <td>-2.443458</td>\n",
       "      <td>0</td>\n",
       "      <td>...</td>\n",
       "      <td>1000.000000</td>\n",
       "      <td>500.000000</td>\n",
       "      <td>500.000000</td>\n",
       "      <td>500.000000</td>\n",
       "      <td>-1</td>\n",
       "      <td>0.000000</td>\n",
       "      <td>0</td>\n",
       "      <td>False</td>\n",
       "      <td>-2.443458</td>\n",
       "      <td>-2.443458</td>\n",
       "    </tr>\n",
       "    <tr>\n",
       "      <th>2007-05-03</th>\n",
       "      <td>220.389999</td>\n",
       "      <td>221.929993</td>\n",
       "      <td>218.550003</td>\n",
       "      <td>221.559998</td>\n",
       "      <td>4414600</td>\n",
       "      <td>199.419681</td>\n",
       "      <td>NaN</td>\n",
       "      <td>NaN</td>\n",
       "      <td>-29.556281</td>\n",
       "      <td>0</td>\n",
       "      <td>...</td>\n",
       "      <td>269.936770</td>\n",
       "      <td>256.645590</td>\n",
       "      <td>256.645590</td>\n",
       "      <td>252.215197</td>\n",
       "      <td>-1</td>\n",
       "      <td>0.000000</td>\n",
       "      <td>0</td>\n",
       "      <td>False</td>\n",
       "      <td>-2.443458</td>\n",
       "      <td>-29.556281</td>\n",
       "    </tr>\n",
       "    <tr>\n",
       "      <th>2007-05-04</th>\n",
       "      <td>222.600006</td>\n",
       "      <td>227.339996</td>\n",
       "      <td>221.429993</td>\n",
       "      <td>227.339996</td>\n",
       "      <td>5632300</td>\n",
       "      <td>204.622089</td>\n",
       "      <td>NaN</td>\n",
       "      <td>NaN</td>\n",
       "      <td>-19.899185</td>\n",
       "      <td>0</td>\n",
       "      <td>...</td>\n",
       "      <td>33.302782</td>\n",
       "      <td>20.437845</td>\n",
       "      <td>20.437845</td>\n",
       "      <td>14.167735</td>\n",
       "      <td>-1</td>\n",
       "      <td>0.000528</td>\n",
       "      <td>-1</td>\n",
       "      <td>False</td>\n",
       "      <td>-2.443458</td>\n",
       "      <td>-29.556281</td>\n",
       "    </tr>\n",
       "    <tr>\n",
       "      <th>2007-05-07</th>\n",
       "      <td>227.000000</td>\n",
       "      <td>229.899994</td>\n",
       "      <td>225.600006</td>\n",
       "      <td>227.220001</td>\n",
       "      <td>4637000</td>\n",
       "      <td>204.514085</td>\n",
       "      <td>NaN</td>\n",
       "      <td>NaN</td>\n",
       "      <td>-26.144345</td>\n",
       "      <td>0</td>\n",
       "      <td>...</td>\n",
       "      <td>24.341851</td>\n",
       "      <td>10.264385</td>\n",
       "      <td>10.264385</td>\n",
       "      <td>4.910650</td>\n",
       "      <td>-1</td>\n",
       "      <td>0.009990</td>\n",
       "      <td>-1</td>\n",
       "      <td>False</td>\n",
       "      <td>-2.443458</td>\n",
       "      <td>-29.556281</td>\n",
       "    </tr>\n",
       "    <tr>\n",
       "      <th>2007-05-08</th>\n",
       "      <td>225.919998</td>\n",
       "      <td>225.990005</td>\n",
       "      <td>222.960007</td>\n",
       "      <td>224.949997</td>\n",
       "      <td>4879700</td>\n",
       "      <td>202.470921</td>\n",
       "      <td>NaN</td>\n",
       "      <td>NaN</td>\n",
       "      <td>-28.632155</td>\n",
       "      <td>0</td>\n",
       "      <td>...</td>\n",
       "      <td>13.426530</td>\n",
       "      <td>4.392034</td>\n",
       "      <td>4.392034</td>\n",
       "      <td>1.712357</td>\n",
       "      <td>-1</td>\n",
       "      <td>-0.007202</td>\n",
       "      <td>-1</td>\n",
       "      <td>False</td>\n",
       "      <td>-2.443458</td>\n",
       "      <td>-29.556281</td>\n",
       "    </tr>\n",
       "  </tbody>\n",
       "</table>\n",
       "<p>5 rows × 24 columns</p>\n",
       "</div>"
      ],
      "text/plain": [
       "                  Open        High         Low       Close   Volume  \\\n",
       "Date                                                                  \n",
       "2007-05-02  218.000000  221.919998  217.449997  219.490005  4859500   \n",
       "2007-05-03  220.389999  221.929993  218.550003  221.559998  4414600   \n",
       "2007-05-04  222.600006  227.339996  221.429993  227.339996  5632300   \n",
       "2007-05-07  227.000000  229.899994  225.600006  227.220001  4637000   \n",
       "2007-05-08  225.919998  225.990005  222.960007  224.949997  4879700   \n",
       "\n",
       "             Adj Close  smooth_predict_100  smooth_slope_100     resids  test  \\\n",
       "Date                                                                            \n",
       "2007-05-02  197.556542                 NaN               NaN  -2.443458     0   \n",
       "2007-05-03  199.419681                 NaN               NaN -29.556281     0   \n",
       "2007-05-04  204.622089                 NaN               NaN -19.899185     0   \n",
       "2007-05-07  204.514085                 NaN               NaN -26.144345     0   \n",
       "2007-05-08  202.470921                 NaN               NaN -28.632155     0   \n",
       "\n",
       "              ...         kalman_a    kalman_b    kalman_c    kalman_d  \\\n",
       "Date          ...                                                        \n",
       "2007-05-02    ...      1000.000000  500.000000  500.000000  500.000000   \n",
       "2007-05-03    ...       269.936770  256.645590  256.645590  252.215197   \n",
       "2007-05-04    ...        33.302782   20.437845   20.437845   14.167735   \n",
       "2007-05-07    ...        24.341851   10.264385   10.264385    4.910650   \n",
       "2007-05-08    ...        13.426530    4.392034    4.392034    1.712357   \n",
       "\n",
       "            test_kal  kal_returns  kal_pos  change_sign      max_       min_  \n",
       "Date                                                                          \n",
       "2007-05-02        -1     0.000000        0        False -2.443458  -2.443458  \n",
       "2007-05-03        -1     0.000000        0        False -2.443458 -29.556281  \n",
       "2007-05-04        -1     0.000528       -1        False -2.443458 -29.556281  \n",
       "2007-05-07        -1     0.009990       -1        False -2.443458 -29.556281  \n",
       "2007-05-08        -1    -0.007202       -1        False -2.443458 -29.556281  \n",
       "\n",
       "[5 rows x 24 columns]"
      ]
     },
     "execution_count": 8,
     "metadata": {},
     "output_type": "execute_result"
    }
   ],
   "source": [
    "df.head()"
   ]
  },
  {
   "cell_type": "code",
   "execution_count": 20,
   "metadata": {
    "collapsed": false
   },
   "outputs": [
    {
     "data": {
      "text/plain": [
       "715"
      ]
     },
     "execution_count": 20,
     "metadata": {},
     "output_type": "execute_result"
    }
   ],
   "source": [
    "sum((df.kal_pos + df.test_kal)==-2)"
   ]
  },
  {
   "cell_type": "code",
   "execution_count": 23,
   "metadata": {
    "collapsed": false
   },
   "outputs": [
    {
     "data": {
      "text/plain": [
       "0"
      ]
     },
     "execution_count": 23,
     "metadata": {},
     "output_type": "execute_result"
    }
   ],
   "source": [
    "sum((df.test_kal)==-2)"
   ]
  },
  {
   "cell_type": "code",
   "execution_count": null,
   "metadata": {
    "collapsed": true
   },
   "outputs": [],
   "source": []
  }
 ],
 "metadata": {
  "kernelspec": {
   "display_name": "Python 3",
   "language": "python",
   "name": "python3"
  },
  "language_info": {
   "codemirror_mode": {
    "name": "ipython",
    "version": 3
   },
   "file_extension": ".py",
   "mimetype": "text/x-python",
   "name": "python",
   "nbconvert_exporter": "python",
   "pygments_lexer": "ipython3",
   "version": "3.4.3"
  }
 },
 "nbformat": 4,
 "nbformat_minor": 0
}
