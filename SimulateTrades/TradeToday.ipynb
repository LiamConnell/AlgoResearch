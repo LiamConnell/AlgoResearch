{
 "cells": [
  {
   "cell_type": "code",
   "execution_count": 70,
   "metadata": {
    "collapsed": false
   },
   "outputs": [
    {
     "name": "stdout",
     "output_type": "stream",
     "text": [
      "Populating the interactive namespace from numpy and matplotlib\n"
     ]
    }
   ],
   "source": [
    "%pylab inline\n",
    "import sys\n",
    "import pandas as pd\n",
    "import numpy as np\n",
    "import datetime\n",
    "from pykalman import KalmanFilter\n",
    "import matplotlib.pyplot as plt\n",
    "from yahoo_finance import Share\n",
    "import pandas.io.data as web\n",
    "import seaborn\n",
    "import os, re"
   ]
  },
  {
   "cell_type": "code",
   "execution_count": 2,
   "metadata": {
    "collapsed": true
   },
   "outputs": [],
   "source": [
    "def get_prices(symbol, start ='2014-05-02',  end = '2016-05-04' ):\n",
    "    start, end = '2014-05-02', '2016-05-04'\n",
    "    data = web.DataReader(symbol, 'yahoo', start, end)\n",
    "    data=pd.DataFrame(data)\n",
    "    prices=data['Adj Close']\n",
    "    #prices=np.asarray(list(prices))\n",
    "    prices=prices.astype(float)\n",
    "    return prices"
   ]
  },
  {
   "cell_type": "code",
   "execution_count": 3,
   "metadata": {
    "collapsed": true
   },
   "outputs": [],
   "source": [
    "def get_xday_vol_ROLL(prices, x):\n",
    "    vol = pd.rolling_apply((prices - prices.shift(x))/prices.shift(x), 500, np.std) * np.sqrt(252/x)\n",
    "    #vol = np.std((pricesDF - pricesDF.shift(-x))/pricesDF) * np.sqrt(252/x)\n",
    "    return vol\n",
    "\n",
    "def get_vol_ratio_ROLL(prices, x, y):\n",
    "    return get_xday_vol_ROLL(prices, x)/get_xday_vol_ROLL(prices, y)"
   ]
  },
  {
   "cell_type": "code",
   "execution_count": 35,
   "metadata": {
    "collapsed": true
   },
   "outputs": [],
   "source": [
    "def get_results2(prices):\n",
    "    kf=KalmanFilter(transition_matrices=[[1,1],[0,1]],observation_matrices=[[1,0]],\n",
    "                    initial_state_mean=[prices[0],0],transition_covariance=[[.001,0],[0,.001]],\n",
    "                    observation_covariance=1) #TC -> Q ;; OC -> R\n",
    "    # kf=kf.em(prices,n_iter=5)\n",
    "    (a,b)=kf.filter(prices)\n",
    "    test_data = pd.DataFrame(prices)\n",
    "    test_data.columns = ['prices']\n",
    "    #test_data['signal'] = test_data\n",
    "    test_data['filter'] = a[:,0]\n",
    "    test_data['kal_vel'] = a[:,1]\n",
    "    test_data['resids'] = test_data.prices - test_data['filter'] + test_data.kal_vel*0\n",
    "    test_data['position'] = 0\n",
    "    test_data['resid_dev'] = pd.rolling_apply(test_data.resids, 50,  np.std)                 # lookahead bias \n",
    "    test_data.loc[test_data.resids<-test_data.resid_dev, 'position'] = 1\n",
    "    test_data.loc[test_data.resids>test_data.resid_dev, 'position'] = -1\n",
    "    test_data['daily_diff'] = (test_data.prices.shift(-1) - test_data.prices)/test_data.prices\n",
    "    test_data['results'] = test_data.position * test_data.daily_diff\n",
    "    return test_data\n",
    "    "
   ]
  },
  {
   "cell_type": "code",
   "execution_count": 43,
   "metadata": {
    "collapsed": true
   },
   "outputs": [],
   "source": [
    "def get_new_day(symbol):\n",
    "    share = Share(symbol)\n",
    "    share.refresh\n",
    "    price_historical = get_prices(symbol)          # add dates\n",
    "    price_today = share.get_price()\n",
    "    \n",
    "    today =  datetime.datetime.today().date()\n",
    "    a = price_historical.index.tolist()\n",
    "    a.append(pd.Timestamp(today))\n",
    "    price_historical = price_historical.reindex(a)\n",
    "    price_historical[today] = price_today\n",
    "\n",
    "    dd = get_results2(price_historical)\n",
    "    variance_ratio = get_vol_ratio_ROLL(price_historical, 1, 2)\n",
    "    return dd.tail(1).position, variance_ratio"
   ]
  },
  {
   "cell_type": "code",
   "execution_count": 40,
   "metadata": {
    "collapsed": true
   },
   "outputs": [],
   "source": [
    "df = pd.read_pickle('../data/kal_returnsDF.pkl')\n",
    "symbolsDF = pd.read_pickle('../data/symbolsDF.pkl')\n",
    "sectors = symbolsDF.sector.unique().tolist()"
   ]
  },
  {
   "cell_type": "code",
   "execution_count": 85,
   "metadata": {
    "collapsed": false
   },
   "outputs": [
    {
     "name": "stderr",
     "output_type": "stream",
     "text": [
      "/Users/liamconnell/anaconda/lib/python3.4/site-packages/pandas/core/frame.py:3200: FutureWarning: TimeSeries broadcasting along DataFrame index by default is deprecated. Please use DataFrame.<op> to explicitly broadcast arithmetic operations along the index\n",
      "  FutureWarning)\n"
     ]
    },
    {
     "data": {
      "text/html": [
       "<div>\n",
       "<table border=\"1\" class=\"dataframe\">\n",
       "  <thead>\n",
       "    <tr style=\"text-align: right;\">\n",
       "      <th></th>\n",
       "      <th>CTL</th>\n",
       "      <th>AAPL</th>\n",
       "      <th>TXN</th>\n",
       "      <th>IP</th>\n",
       "      <th>WBA</th>\n",
       "      <th>LUK</th>\n",
       "      <th>BCR</th>\n",
       "      <th>ADT</th>\n",
       "      <th>ROK</th>\n",
       "      <th>HD</th>\n",
       "      <th>WYN</th>\n",
       "    </tr>\n",
       "    <tr>\n",
       "      <th>Date</th>\n",
       "      <th></th>\n",
       "      <th></th>\n",
       "      <th></th>\n",
       "      <th></th>\n",
       "      <th></th>\n",
       "      <th></th>\n",
       "      <th></th>\n",
       "      <th></th>\n",
       "      <th></th>\n",
       "      <th></th>\n",
       "      <th></th>\n",
       "    </tr>\n",
       "  </thead>\n",
       "  <tbody>\n",
       "    <tr>\n",
       "      <th>2016-05-07</th>\n",
       "      <td>0</td>\n",
       "      <td>0</td>\n",
       "      <td>0</td>\n",
       "      <td>1</td>\n",
       "      <td>0</td>\n",
       "      <td>0</td>\n",
       "      <td>0</td>\n",
       "      <td>0</td>\n",
       "      <td>0</td>\n",
       "      <td>0</td>\n",
       "      <td>0</td>\n",
       "    </tr>\n",
       "  </tbody>\n",
       "</table>\n",
       "</div>"
      ],
      "text/plain": [
       "            CTL  AAPL  TXN  IP  WBA  LUK  BCR  ADT  ROK  HD  WYN\n",
       "Date                                                            \n",
       "2016-05-07    0     0    0   1    0    0    0    0    0   0    0"
      ]
     },
     "execution_count": 85,
     "metadata": {},
     "output_type": "execute_result"
    }
   ],
   "source": [
    "posns = pd.DataFrame()\n",
    "variance_ratios = pd.DataFrame()\n",
    "for symbol in symbolsDF.index[1::50]:\n",
    "    try:\n",
    "        pos, varrat = get_new_day(symbol)\n",
    "        posns[symbol] = pos\n",
    "        variance_ratios[symbol] = varrat.tail(1)\n",
    "    except:\n",
    "        pass\n",
    "posns * (variance_ratios>variance_ratios.mean(axis=1))"
   ]
  },
  {
   "cell_type": "code",
   "execution_count": 86,
   "metadata": {
    "collapsed": false,
    "scrolled": true
   },
   "outputs": [
    {
     "name": "stderr",
     "output_type": "stream",
     "text": [
      "/Users/liamconnell/anaconda/lib/python3.4/site-packages/pandas/core/frame.py:3200: FutureWarning: TimeSeries broadcasting along DataFrame index by default is deprecated. Please use DataFrame.<op> to explicitly broadcast arithmetic operations along the index\n",
      "  FutureWarning)\n"
     ]
    }
   ],
   "source": [
    "trade = posns * (variance_ratios>variance_ratios.mean(axis=1))"
   ]
  },
  {
   "cell_type": "code",
   "execution_count": 87,
   "metadata": {
    "collapsed": false
   },
   "outputs": [],
   "source": [
    "trade_DF = '../data/trades/trade_DF.pkl'\n",
    "if os.path.exists(trade_DF) == False:\n",
    "    os.makedirs('../data/trades/')\n",
    "    trade.to_pickle(trade_DF)\n",
    "else:\n",
    "    tradedf = pd.read_pickle(trade_DF)\n",
    "    tradedf.append(trade).to_pickle(trade_DF)"
   ]
  },
  {
   "cell_type": "code",
   "execution_count": 88,
   "metadata": {
    "collapsed": false
   },
   "outputs": [
    {
     "data": {
      "text/html": [
       "<div>\n",
       "<table border=\"1\" class=\"dataframe\">\n",
       "  <thead>\n",
       "    <tr style=\"text-align: right;\">\n",
       "      <th></th>\n",
       "      <th>CTL</th>\n",
       "      <th>AAPL</th>\n",
       "      <th>TXN</th>\n",
       "      <th>IP</th>\n",
       "      <th>WBA</th>\n",
       "      <th>LUK</th>\n",
       "      <th>BCR</th>\n",
       "      <th>ADT</th>\n",
       "      <th>ROK</th>\n",
       "      <th>HD</th>\n",
       "      <th>WYN</th>\n",
       "    </tr>\n",
       "    <tr>\n",
       "      <th>Date</th>\n",
       "      <th></th>\n",
       "      <th></th>\n",
       "      <th></th>\n",
       "      <th></th>\n",
       "      <th></th>\n",
       "      <th></th>\n",
       "      <th></th>\n",
       "      <th></th>\n",
       "      <th></th>\n",
       "      <th></th>\n",
       "      <th></th>\n",
       "    </tr>\n",
       "  </thead>\n",
       "  <tbody>\n",
       "    <tr>\n",
       "      <th>2016-05-04</th>\n",
       "      <td>0</td>\n",
       "      <td>0</td>\n",
       "      <td>1</td>\n",
       "      <td>1</td>\n",
       "      <td>-1</td>\n",
       "      <td>0</td>\n",
       "      <td>0</td>\n",
       "      <td>0</td>\n",
       "      <td>1</td>\n",
       "      <td>0</td>\n",
       "      <td>0</td>\n",
       "    </tr>\n",
       "    <tr>\n",
       "      <th>2016-05-05</th>\n",
       "      <td>0</td>\n",
       "      <td>0</td>\n",
       "      <td>1</td>\n",
       "      <td>1</td>\n",
       "      <td>0</td>\n",
       "      <td>0</td>\n",
       "      <td>0</td>\n",
       "      <td>0</td>\n",
       "      <td>1</td>\n",
       "      <td>0</td>\n",
       "      <td>0</td>\n",
       "    </tr>\n",
       "  </tbody>\n",
       "</table>\n",
       "</div>"
      ],
      "text/plain": [
       "            CTL  AAPL  TXN  IP  WBA  LUK  BCR  ADT  ROK  HD  WYN\n",
       "Date                                                            \n",
       "2016-05-04    0     0    1   1   -1    0    0    0    1   0    0\n",
       "2016-05-05    0     0    1   1    0    0    0    0    1   0    0"
      ]
     },
     "execution_count": 88,
     "metadata": {},
     "output_type": "execute_result"
    }
   ],
   "source": [
    "tradedf"
   ]
  },
  {
   "cell_type": "code",
   "execution_count": null,
   "metadata": {
    "collapsed": true
   },
   "outputs": [],
   "source": []
  },
  {
   "cell_type": "code",
   "execution_count": 90,
   "metadata": {
    "collapsed": false
   },
   "outputs": [
    {
     "data": {
      "text/html": [
       "<div>\n",
       "<table border=\"1\" class=\"dataframe\">\n",
       "  <thead>\n",
       "    <tr style=\"text-align: right;\">\n",
       "      <th></th>\n",
       "      <th>CTL</th>\n",
       "      <th>AAPL</th>\n",
       "      <th>TXN</th>\n",
       "      <th>IP</th>\n",
       "      <th>WBA</th>\n",
       "      <th>LUK</th>\n",
       "      <th>BCR</th>\n",
       "      <th>ADT</th>\n",
       "      <th>ROK</th>\n",
       "      <th>HD</th>\n",
       "      <th>WYN</th>\n",
       "    </tr>\n",
       "    <tr>\n",
       "      <th>Date</th>\n",
       "      <th></th>\n",
       "      <th></th>\n",
       "      <th></th>\n",
       "      <th></th>\n",
       "      <th></th>\n",
       "      <th></th>\n",
       "      <th></th>\n",
       "      <th></th>\n",
       "      <th></th>\n",
       "      <th></th>\n",
       "      <th></th>\n",
       "    </tr>\n",
       "  </thead>\n",
       "  <tbody>\n",
       "    <tr>\n",
       "      <th>2016-05-04</th>\n",
       "      <td>0</td>\n",
       "      <td>0</td>\n",
       "      <td>1</td>\n",
       "      <td>1</td>\n",
       "      <td>-1</td>\n",
       "      <td>0</td>\n",
       "      <td>0</td>\n",
       "      <td>0</td>\n",
       "      <td>1</td>\n",
       "      <td>0</td>\n",
       "      <td>0</td>\n",
       "    </tr>\n",
       "    <tr>\n",
       "      <th>2016-05-05</th>\n",
       "      <td>0</td>\n",
       "      <td>0</td>\n",
       "      <td>1</td>\n",
       "      <td>1</td>\n",
       "      <td>0</td>\n",
       "      <td>0</td>\n",
       "      <td>0</td>\n",
       "      <td>0</td>\n",
       "      <td>1</td>\n",
       "      <td>0</td>\n",
       "      <td>0</td>\n",
       "    </tr>\n",
       "    <tr>\n",
       "      <th>2016-05-07</th>\n",
       "      <td>0</td>\n",
       "      <td>0</td>\n",
       "      <td>0</td>\n",
       "      <td>1</td>\n",
       "      <td>0</td>\n",
       "      <td>0</td>\n",
       "      <td>0</td>\n",
       "      <td>0</td>\n",
       "      <td>0</td>\n",
       "      <td>0</td>\n",
       "      <td>0</td>\n",
       "    </tr>\n",
       "  </tbody>\n",
       "</table>\n",
       "</div>"
      ],
      "text/plain": [
       "            CTL  AAPL  TXN  IP  WBA  LUK  BCR  ADT  ROK  HD  WYN\n",
       "Date                                                            \n",
       "2016-05-04    0     0    1   1   -1    0    0    0    1   0    0\n",
       "2016-05-05    0     0    1   1    0    0    0    0    1   0    0\n",
       "2016-05-07    0     0    0   1    0    0    0    0    0   0    0"
      ]
     },
     "execution_count": 90,
     "metadata": {},
     "output_type": "execute_result"
    }
   ],
   "source": [
    "pd.read_pickle(trade_DF)"
   ]
  },
  {
   "cell_type": "code",
   "execution_count": null,
   "metadata": {
    "collapsed": true
   },
   "outputs": [],
   "source": []
  },
  {
   "cell_type": "code",
   "execution_count": null,
   "metadata": {
    "collapsed": true
   },
   "outputs": [],
   "source": []
  },
  {
   "cell_type": "code",
   "execution_count": null,
   "metadata": {
    "collapsed": true
   },
   "outputs": [],
   "source": []
  },
  {
   "cell_type": "code",
   "execution_count": 89,
   "metadata": {
    "collapsed": false
   },
   "outputs": [
    {
     "data": {
      "text/html": [
       "<div>\n",
       "<table border=\"1\" class=\"dataframe\">\n",
       "  <thead>\n",
       "    <tr style=\"text-align: right;\">\n",
       "      <th></th>\n",
       "      <th>CTL</th>\n",
       "      <th>AAPL</th>\n",
       "      <th>TXN</th>\n",
       "      <th>IP</th>\n",
       "      <th>WBA</th>\n",
       "      <th>LUK</th>\n",
       "      <th>BCR</th>\n",
       "      <th>ADT</th>\n",
       "      <th>ROK</th>\n",
       "      <th>HD</th>\n",
       "      <th>WYN</th>\n",
       "    </tr>\n",
       "    <tr>\n",
       "      <th>Date</th>\n",
       "      <th></th>\n",
       "      <th></th>\n",
       "      <th></th>\n",
       "      <th></th>\n",
       "      <th></th>\n",
       "      <th></th>\n",
       "      <th></th>\n",
       "      <th></th>\n",
       "      <th></th>\n",
       "      <th></th>\n",
       "      <th></th>\n",
       "    </tr>\n",
       "  </thead>\n",
       "  <tbody>\n",
       "    <tr>\n",
       "      <th>2016-05-07</th>\n",
       "      <td>0</td>\n",
       "      <td>0</td>\n",
       "      <td>0</td>\n",
       "      <td>1</td>\n",
       "      <td>0</td>\n",
       "      <td>0</td>\n",
       "      <td>0</td>\n",
       "      <td>0</td>\n",
       "      <td>0</td>\n",
       "      <td>0</td>\n",
       "      <td>0</td>\n",
       "    </tr>\n",
       "  </tbody>\n",
       "</table>\n",
       "</div>"
      ],
      "text/plain": [
       "            CTL  AAPL  TXN  IP  WBA  LUK  BCR  ADT  ROK  HD  WYN\n",
       "Date                                                            \n",
       "2016-05-07    0     0    0   1    0    0    0    0    0   0    0"
      ]
     },
     "execution_count": 89,
     "metadata": {},
     "output_type": "execute_result"
    }
   ],
   "source": [
    "trade"
   ]
  },
  {
   "cell_type": "code",
   "execution_count": 83,
   "metadata": {
    "collapsed": true
   },
   "outputs": [],
   "source": [
    "tradedf = pd.read_pickle(trade_DF)"
   ]
  },
  {
   "cell_type": "code",
   "execution_count": 79,
   "metadata": {
    "collapsed": false
   },
   "outputs": [
    {
     "data": {
      "text/html": [
       "<div>\n",
       "<table border=\"1\" class=\"dataframe\">\n",
       "  <thead>\n",
       "    <tr style=\"text-align: right;\">\n",
       "      <th></th>\n",
       "      <th>CTL</th>\n",
       "      <th>AAPL</th>\n",
       "      <th>TXN</th>\n",
       "      <th>IP</th>\n",
       "      <th>WBA</th>\n",
       "      <th>LUK</th>\n",
       "      <th>BCR</th>\n",
       "      <th>ADT</th>\n",
       "      <th>ROK</th>\n",
       "      <th>HD</th>\n",
       "      <th>WYN</th>\n",
       "    </tr>\n",
       "    <tr>\n",
       "      <th>Date</th>\n",
       "      <th></th>\n",
       "      <th></th>\n",
       "      <th></th>\n",
       "      <th></th>\n",
       "      <th></th>\n",
       "      <th></th>\n",
       "      <th></th>\n",
       "      <th></th>\n",
       "      <th></th>\n",
       "      <th></th>\n",
       "      <th></th>\n",
       "    </tr>\n",
       "  </thead>\n",
       "  <tbody>\n",
       "    <tr>\n",
       "      <th>2016-05-05</th>\n",
       "      <td>0</td>\n",
       "      <td>0</td>\n",
       "      <td>1</td>\n",
       "      <td>1</td>\n",
       "      <td>0</td>\n",
       "      <td>0</td>\n",
       "      <td>0</td>\n",
       "      <td>0</td>\n",
       "      <td>1</td>\n",
       "      <td>0</td>\n",
       "      <td>0</td>\n",
       "    </tr>\n",
       "  </tbody>\n",
       "</table>\n",
       "</div>"
      ],
      "text/plain": [
       "            CTL  AAPL  TXN  IP  WBA  LUK  BCR  ADT  ROK  HD  WYN\n",
       "Date                                                            \n",
       "2016-05-05    0     0    1   1    0    0    0    0    1   0    0"
      ]
     },
     "execution_count": 79,
     "metadata": {},
     "output_type": "execute_result"
    }
   ],
   "source": [
    "trade"
   ]
  },
  {
   "cell_type": "code",
   "execution_count": 81,
   "metadata": {
    "collapsed": false
   },
   "outputs": [
    {
     "data": {
      "text/html": [
       "<div>\n",
       "<table border=\"1\" class=\"dataframe\">\n",
       "  <thead>\n",
       "    <tr style=\"text-align: right;\">\n",
       "      <th></th>\n",
       "      <th>CTL</th>\n",
       "      <th>AAPL</th>\n",
       "      <th>TXN</th>\n",
       "      <th>IP</th>\n",
       "      <th>WBA</th>\n",
       "      <th>LUK</th>\n",
       "      <th>BCR</th>\n",
       "      <th>ADT</th>\n",
       "      <th>ROK</th>\n",
       "      <th>HD</th>\n",
       "      <th>WYN</th>\n",
       "    </tr>\n",
       "    <tr>\n",
       "      <th>Date</th>\n",
       "      <th></th>\n",
       "      <th></th>\n",
       "      <th></th>\n",
       "      <th></th>\n",
       "      <th></th>\n",
       "      <th></th>\n",
       "      <th></th>\n",
       "      <th></th>\n",
       "      <th></th>\n",
       "      <th></th>\n",
       "      <th></th>\n",
       "    </tr>\n",
       "  </thead>\n",
       "  <tbody>\n",
       "    <tr>\n",
       "      <th>2016-05-04</th>\n",
       "      <td>0</td>\n",
       "      <td>0</td>\n",
       "      <td>1</td>\n",
       "      <td>1</td>\n",
       "      <td>-1</td>\n",
       "      <td>0</td>\n",
       "      <td>0</td>\n",
       "      <td>0</td>\n",
       "      <td>1</td>\n",
       "      <td>0</td>\n",
       "      <td>0</td>\n",
       "    </tr>\n",
       "    <tr>\n",
       "      <th>2016-05-05</th>\n",
       "      <td>0</td>\n",
       "      <td>0</td>\n",
       "      <td>1</td>\n",
       "      <td>1</td>\n",
       "      <td>0</td>\n",
       "      <td>0</td>\n",
       "      <td>0</td>\n",
       "      <td>0</td>\n",
       "      <td>1</td>\n",
       "      <td>0</td>\n",
       "      <td>0</td>\n",
       "    </tr>\n",
       "  </tbody>\n",
       "</table>\n",
       "</div>"
      ],
      "text/plain": [
       "            CTL  AAPL  TXN  IP  WBA  LUK  BCR  ADT  ROK  HD  WYN\n",
       "Date                                                            \n",
       "2016-05-04    0     0    1   1   -1    0    0    0    1   0    0\n",
       "2016-05-05    0     0    1   1    0    0    0    0    1   0    0"
      ]
     },
     "execution_count": 81,
     "metadata": {},
     "output_type": "execute_result"
    }
   ],
   "source": [
    "tradedf.append(trade)"
   ]
  },
  {
   "cell_type": "code",
   "execution_count": 65,
   "metadata": {
    "collapsed": false
   },
   "outputs": [
    {
     "data": {
      "text/html": [
       "<div>\n",
       "<table border=\"1\" class=\"dataframe\">\n",
       "  <thead>\n",
       "    <tr style=\"text-align: right;\">\n",
       "      <th></th>\n",
       "      <th>CTL</th>\n",
       "      <th>AAPL</th>\n",
       "      <th>TXN</th>\n",
       "      <th>IP</th>\n",
       "      <th>WBA</th>\n",
       "      <th>LUK</th>\n",
       "      <th>BCR</th>\n",
       "      <th>ADT</th>\n",
       "      <th>ROK</th>\n",
       "      <th>HD</th>\n",
       "      <th>WYN</th>\n",
       "    </tr>\n",
       "    <tr>\n",
       "      <th>Date</th>\n",
       "      <th></th>\n",
       "      <th></th>\n",
       "      <th></th>\n",
       "      <th></th>\n",
       "      <th></th>\n",
       "      <th></th>\n",
       "      <th></th>\n",
       "      <th></th>\n",
       "      <th></th>\n",
       "      <th></th>\n",
       "      <th></th>\n",
       "    </tr>\n",
       "  </thead>\n",
       "  <tbody>\n",
       "    <tr>\n",
       "      <th>2016-05-04</th>\n",
       "      <td>0</td>\n",
       "      <td>0</td>\n",
       "      <td>1</td>\n",
       "      <td>1</td>\n",
       "      <td>-1</td>\n",
       "      <td>1</td>\n",
       "      <td>0</td>\n",
       "      <td>0</td>\n",
       "      <td>1</td>\n",
       "      <td>0</td>\n",
       "      <td>0</td>\n",
       "    </tr>\n",
       "  </tbody>\n",
       "</table>\n",
       "</div>"
      ],
      "text/plain": [
       "            CTL  AAPL  TXN  IP  WBA  LUK  BCR  ADT  ROK  HD  WYN\n",
       "Date                                                            \n",
       "2016-05-04    0     0    1   1   -1    1    0    0    1   0    0"
      ]
     },
     "execution_count": 65,
     "metadata": {},
     "output_type": "execute_result"
    }
   ],
   "source": [
    "posns"
   ]
  },
  {
   "cell_type": "code",
   "execution_count": 84,
   "metadata": {
    "collapsed": false
   },
   "outputs": [
    {
     "data": {
      "text/html": [
       "<div>\n",
       "<table border=\"1\" class=\"dataframe\">\n",
       "  <thead>\n",
       "    <tr style=\"text-align: right;\">\n",
       "      <th></th>\n",
       "      <th>CTL</th>\n",
       "      <th>AAPL</th>\n",
       "      <th>TXN</th>\n",
       "      <th>IP</th>\n",
       "      <th>WBA</th>\n",
       "      <th>LUK</th>\n",
       "      <th>BCR</th>\n",
       "      <th>ADT</th>\n",
       "      <th>ROK</th>\n",
       "      <th>HD</th>\n",
       "      <th>WYN</th>\n",
       "    </tr>\n",
       "    <tr>\n",
       "      <th>Date</th>\n",
       "      <th></th>\n",
       "      <th></th>\n",
       "      <th></th>\n",
       "      <th></th>\n",
       "      <th></th>\n",
       "      <th></th>\n",
       "      <th></th>\n",
       "      <th></th>\n",
       "      <th></th>\n",
       "      <th></th>\n",
       "      <th></th>\n",
       "    </tr>\n",
       "  </thead>\n",
       "  <tbody>\n",
       "    <tr>\n",
       "      <th>2016-05-04</th>\n",
       "      <td>0</td>\n",
       "      <td>0</td>\n",
       "      <td>1</td>\n",
       "      <td>1</td>\n",
       "      <td>-1</td>\n",
       "      <td>0</td>\n",
       "      <td>0</td>\n",
       "      <td>0</td>\n",
       "      <td>1</td>\n",
       "      <td>0</td>\n",
       "      <td>0</td>\n",
       "    </tr>\n",
       "    <tr>\n",
       "      <th>2016-05-05</th>\n",
       "      <td>0</td>\n",
       "      <td>0</td>\n",
       "      <td>1</td>\n",
       "      <td>1</td>\n",
       "      <td>0</td>\n",
       "      <td>0</td>\n",
       "      <td>0</td>\n",
       "      <td>0</td>\n",
       "      <td>1</td>\n",
       "      <td>0</td>\n",
       "      <td>0</td>\n",
       "    </tr>\n",
       "  </tbody>\n",
       "</table>\n",
       "</div>"
      ],
      "text/plain": [
       "            CTL  AAPL  TXN  IP  WBA  LUK  BCR  ADT  ROK  HD  WYN\n",
       "Date                                                            \n",
       "2016-05-04    0     0    1   1   -1    0    0    0    1   0    0\n",
       "2016-05-05    0     0    1   1    0    0    0    0    1   0    0"
      ]
     },
     "execution_count": 84,
     "metadata": {},
     "output_type": "execute_result"
    }
   ],
   "source": [
    "tradedf"
   ]
  },
  {
   "cell_type": "code",
   "execution_count": 58,
   "metadata": {
    "collapsed": false
   },
   "outputs": [
    {
     "name": "stderr",
     "output_type": "stream",
     "text": [
      "/Users/liamconnell/anaconda/lib/python3.4/site-packages/pandas/core/frame.py:3200: FutureWarning: TimeSeries broadcasting along DataFrame index by default is deprecated. Please use DataFrame.<op> to explicitly broadcast arithmetic operations along the index\n",
      "  FutureWarning)\n"
     ]
    },
    {
     "data": {
      "text/html": [
       "<div>\n",
       "<table border=\"1\" class=\"dataframe\">\n",
       "  <thead>\n",
       "    <tr style=\"text-align: right;\">\n",
       "      <th></th>\n",
       "      <th>T</th>\n",
       "      <th>TDC</th>\n",
       "      <th>WMT</th>\n",
       "      <th>AMGN</th>\n",
       "      <th>RHI</th>\n",
       "      <th>WHR</th>\n",
       "    </tr>\n",
       "    <tr>\n",
       "      <th>Date</th>\n",
       "      <th></th>\n",
       "      <th></th>\n",
       "      <th></th>\n",
       "      <th></th>\n",
       "      <th></th>\n",
       "      <th></th>\n",
       "    </tr>\n",
       "  </thead>\n",
       "  <tbody>\n",
       "    <tr>\n",
       "      <th>2016-05-04</th>\n",
       "      <td>0</td>\n",
       "      <td>1</td>\n",
       "      <td>0</td>\n",
       "      <td>0</td>\n",
       "      <td>0</td>\n",
       "      <td>0</td>\n",
       "    </tr>\n",
       "  </tbody>\n",
       "</table>\n",
       "</div>"
      ],
      "text/plain": [
       "            T  TDC  WMT  AMGN  RHI  WHR\n",
       "Date                                   \n",
       "2016-05-04  0    1    0     0    0    0"
      ]
     },
     "execution_count": 58,
     "metadata": {},
     "output_type": "execute_result"
    }
   ],
   "source": [
    "posns * (variance_ratios>variance_ratios.mean(axis=1))"
   ]
  },
  {
   "cell_type": "code",
   "execution_count": 59,
   "metadata": {
    "collapsed": false
   },
   "outputs": [
    {
     "data": {
      "text/html": [
       "<div>\n",
       "<table border=\"1\" class=\"dataframe\">\n",
       "  <thead>\n",
       "    <tr style=\"text-align: right;\">\n",
       "      <th></th>\n",
       "      <th>T</th>\n",
       "      <th>TDC</th>\n",
       "      <th>WMT</th>\n",
       "      <th>AMGN</th>\n",
       "      <th>RHI</th>\n",
       "      <th>WHR</th>\n",
       "    </tr>\n",
       "    <tr>\n",
       "      <th>Date</th>\n",
       "      <th></th>\n",
       "      <th></th>\n",
       "      <th></th>\n",
       "      <th></th>\n",
       "      <th></th>\n",
       "      <th></th>\n",
       "    </tr>\n",
       "  </thead>\n",
       "  <tbody>\n",
       "    <tr>\n",
       "      <th>2016-05-04</th>\n",
       "      <td>0</td>\n",
       "      <td>1</td>\n",
       "      <td>1</td>\n",
       "      <td>1</td>\n",
       "      <td>0</td>\n",
       "      <td>0</td>\n",
       "    </tr>\n",
       "  </tbody>\n",
       "</table>\n",
       "</div>"
      ],
      "text/plain": [
       "            T  TDC  WMT  AMGN  RHI  WHR\n",
       "Date                                   \n",
       "2016-05-04  0    1    1     1    0    0"
      ]
     },
     "execution_count": 59,
     "metadata": {},
     "output_type": "execute_result"
    }
   ],
   "source": [
    "posns"
   ]
  },
  {
   "cell_type": "code",
   "execution_count": 62,
   "metadata": {
    "collapsed": false
   },
   "outputs": [
    {
     "name": "stderr",
     "output_type": "stream",
     "text": [
      "/Users/liamconnell/anaconda/lib/python3.4/site-packages/pandas/core/frame.py:3200: FutureWarning: TimeSeries broadcasting along DataFrame index by default is deprecated. Please use DataFrame.<op> to explicitly broadcast arithmetic operations along the index\n",
      "  FutureWarning)\n"
     ]
    },
    {
     "data": {
      "text/html": [
       "<div>\n",
       "<table border=\"1\" class=\"dataframe\">\n",
       "  <thead>\n",
       "    <tr style=\"text-align: right;\">\n",
       "      <th></th>\n",
       "      <th>T</th>\n",
       "      <th>TDC</th>\n",
       "      <th>WMT</th>\n",
       "      <th>AMGN</th>\n",
       "      <th>RHI</th>\n",
       "      <th>WHR</th>\n",
       "    </tr>\n",
       "    <tr>\n",
       "      <th>Date</th>\n",
       "      <th></th>\n",
       "      <th></th>\n",
       "      <th></th>\n",
       "      <th></th>\n",
       "      <th></th>\n",
       "      <th></th>\n",
       "    </tr>\n",
       "  </thead>\n",
       "  <tbody>\n",
       "    <tr>\n",
       "      <th>2016-05-04</th>\n",
       "      <td>False</td>\n",
       "      <td>True</td>\n",
       "      <td>False</td>\n",
       "      <td>False</td>\n",
       "      <td>False</td>\n",
       "      <td>True</td>\n",
       "    </tr>\n",
       "  </tbody>\n",
       "</table>\n",
       "</div>"
      ],
      "text/plain": [
       "                T   TDC    WMT   AMGN    RHI   WHR\n",
       "Date                                              \n",
       "2016-05-04  False  True  False  False  False  True"
      ]
     },
     "execution_count": 62,
     "metadata": {},
     "output_type": "execute_result"
    }
   ],
   "source": [
    "(variance_ratios>variance_ratios.mean(axis=1))"
   ]
  },
  {
   "cell_type": "code",
   "execution_count": null,
   "metadata": {
    "collapsed": true
   },
   "outputs": [],
   "source": []
  },
  {
   "cell_type": "code",
   "execution_count": null,
   "metadata": {
    "collapsed": true
   },
   "outputs": [],
   "source": []
  },
  {
   "cell_type": "code",
   "execution_count": 41,
   "metadata": {
    "collapsed": true
   },
   "outputs": [],
   "source": [
    "def get_prices(symbol):\n",
    "    start, end = '2013-05-02', '2016-05-04'\n",
    "    data = web.DataReader(symbol, 'yahoo', start, end)\n",
    "    data=pd.DataFrame(data)\n",
    "    prices=data['Adj Close']\n",
    "    #prices=np.asarray(list(prices))\n",
    "    prices=prices.astype(float)\n",
    "    return prices"
   ]
  },
  {
   "cell_type": "code",
   "execution_count": 42,
   "metadata": {
    "collapsed": true
   },
   "outputs": [],
   "source": [
    "gs_historical = get_prices('GS')"
   ]
  },
  {
   "cell_type": "code",
   "execution_count": 43,
   "metadata": {
    "collapsed": false
   },
   "outputs": [
    {
     "data": {
      "text/plain": [
       "(757,)"
      ]
     },
     "execution_count": 43,
     "metadata": {},
     "output_type": "execute_result"
    }
   ],
   "source": [
    "gs_historical.shape\n"
   ]
  },
  {
   "cell_type": "code",
   "execution_count": 44,
   "metadata": {
    "collapsed": false
   },
   "outputs": [
    {
     "data": {
      "text/plain": [
       "<matplotlib.axes._subplots.AxesSubplot at 0x10bc5d2b0>"
      ]
     },
     "execution_count": 44,
     "metadata": {},
     "output_type": "execute_result"
    },
    {
     "data": {
      "image/png": "[encoded data removed]",
      "text/plain": [
       "<matplotlib.figure.Figure at 0x10bc66b38>"
      ]
     },
     "metadata": {},
     "output_type": "display_data"
    }
   ],
   "source": [
    "gs_historical.plot()"
   ]
  },
  {
   "cell_type": "code",
   "execution_count": 45,
   "metadata": {
    "collapsed": false
   },
   "outputs": [
    {
     "data": {
      "text/plain": [
       "Date\n",
       "2016-04-27    166.919998\n",
       "2016-04-28    164.289993\n",
       "2016-04-29    164.110001\n",
       "2016-05-02    166.179993\n",
       "2016-05-03    163.139999\n",
       "Name: Adj Close, dtype: float64"
      ]
     },
     "execution_count": 45,
     "metadata": {},
     "output_type": "execute_result"
    }
   ],
   "source": [
    "gs_historical.tail()"
   ]
  },
  {
   "cell_type": "code",
   "execution_count": 48,
   "metadata": {
    "collapsed": true
   },
   "outputs": [],
   "source": [
    "def get_xday_vol_ROLL(prices, x):\n",
    "    vol = pd.rolling_apply((prices - prices.shift(x))/prices, 500, np.std) * np.sqrt(252/x)\n",
    "    #vol = np.std((pricesDF - pricesDF.shift(-x))/pricesDF) * np.sqrt(252/x)\n",
    "    return vol\n",
    "\n",
    "def get_vol_ratio_ROLL(prices, x, y):\n",
    "    return get_xday_vol_ROLL(prices, x)/get_xday_vol_ROLL(prices, y)"
   ]
  },
  {
   "cell_type": "code",
   "execution_count": null,
   "metadata": {
    "collapsed": true
   },
   "outputs": [],
   "source": [
    "def get_results2(prices):\n",
    "    kf=KalmanFilter(transition_matrices=[[1,1],[0,1]],observation_matrices=[[1,0]],\n",
    "                    initial_state_mean=[prices[0],0],transition_covariance=[[.001,0],[0,.001]],\n",
    "                    observation_covariance=1) #TC -> Q ;; OC -> R\n",
    "    # kf=kf.em(prices,n_iter=5)\n",
    "    (a,b)=kf.filter(prices)\n",
    "    test_data = pd.DataFrame(prices)\n",
    "    test_data.columns = ['prices']\n",
    "    test_data['signal'] = test_data\n",
    "    test_data['filter'] = a[:,0]\n",
    "    test_data['resids'] = test_data.prices - test_data['filter']\n",
    "    test_data['position'] = 0\n",
    "    test_data['resid_dev'] = pd.rolling_apply(test_data.resids, 50,  np.std)                 # lookahead bias \n",
    "    test_data.position[test_data.resids<-test_data.resid_dev] = 1\n",
    "    test_data.position[test_data.resids>test_data.resid_dev] = -1\n",
    "    test_data['daily_diff'] = (test_data.signal.shift(-1) - test_data.signal)/test_data.signal\n",
    "    test_data['results'] = test_data.position * test_data.daily_diff\n",
    "    return test_data\n",
    "    "
   ]
  },
  {
   "cell_type": "code",
   "execution_count": 50,
   "metadata": {
    "collapsed": false
   },
   "outputs": [],
   "source": [
    "variance_ratio = get_vol_ratio_ROLL(gs_historical, 1, 4)"
   ]
  },
  {
   "cell_type": "code",
   "execution_count": 51,
   "metadata": {
    "collapsed": false
   },
   "outputs": [
    {
     "data": {
      "text/plain": [
       "<matplotlib.axes._subplots.AxesSubplot at 0x10bc87eb8>"
      ]
     },
     "execution_count": 51,
     "metadata": {},
     "output_type": "execute_result"
    },
    {
     "data": {
      "image/png": "[encoded data removed]",
      "text/plain": [
       "<matplotlib.figure.Figure at 0x10bc66588>"
      ]
     },
     "metadata": {},
     "output_type": "display_data"
    }
   ],
   "source": [
    "variance_ratio.plot()"
   ]
  },
  {
   "cell_type": "code",
   "execution_count": 63,
   "metadata": {
    "collapsed": false
   },
   "outputs": [],
   "source": [
    "def get_results2(prices):\n",
    "    kf=KalmanFilter(transition_matrices=[[1,1],[0,1]],observation_matrices=[[1,0]],\n",
    "                    initial_state_mean=[prices[0],0],transition_covariance=[[.001,0],[0,.001]],\n",
    "                    observation_covariance=1) #TC -> Q ;; OC -> R\n",
    "    # kf=kf.em(prices,n_iter=5)\n",
    "    (a,b)=kf.filter(prices)\n",
    "    test_data = pd.DataFrame(prices)\n",
    "    test_data.columns = ['prices']\n",
    "    test_data['signal'] = test_data\n",
    "    test_data['filter'] = a[:,0]\n",
    "    test_data['resids'] = test_data.prices - test_data['filter']\n",
    "    test_data['position'] = 0\n",
    "    test_data['resid_dev'] = pd.rolling_apply(test_data.resids, 50,  np.std)                 # lookahead bias \n",
    "    test_data.position[test_data.resids<-test_data.resid_dev] = 1\n",
    "    test_data.position[test_data.resids>test_data.resid_dev] = -1\n",
    "    test_data['daily_diff'] = (test_data.signal.shift(-1) - test_data.signal)/test_data.signal\n",
    "    test_data['results'] = test_data.position * test_data.daily_diff\n",
    "    return test_data\n",
    "    "
   ]
  },
  {
   "cell_type": "code",
   "execution_count": 65,
   "metadata": {
    "collapsed": false
   },
   "outputs": [
    {
     "name": "stderr",
     "output_type": "stream",
     "text": [
      "/Users/liamconnell/anaconda/lib/python3.4/site-packages/IPython/kernel/__main__.py:14: SettingWithCopyWarning: \n",
      "A value is trying to be set on a copy of a slice from a DataFrame\n",
      "\n",
      "See the the caveats in the documentation: http://pandas.pydata.org/pandas-docs/stable/indexing.html#indexing-view-versus-copy\n",
      "/Users/liamconnell/anaconda/lib/python3.4/site-packages/IPython/kernel/__main__.py:15: SettingWithCopyWarning: \n",
      "A value is trying to be set on a copy of a slice from a DataFrame\n",
      "\n",
      "See the the caveats in the documentation: http://pandas.pydata.org/pandas-docs/stable/indexing.html#indexing-view-versus-copy\n"
     ]
    }
   ],
   "source": [
    "dd = get_results2(gs_historical)"
   ]
  },
  {
   "cell_type": "code",
   "execution_count": 66,
   "metadata": {
    "collapsed": false
   },
   "outputs": [
    {
     "data": {
      "text/plain": [
       "<matplotlib.axes._subplots.AxesSubplot at 0x10509c320>"
      ]
     },
     "execution_count": 66,
     "metadata": {},
     "output_type": "execute_result"
    },
    {
     "data": {
      "image/png": "[encoded data removed]",
      "text/plain": [
       "<matplotlib.figure.Figure at 0x105097e80>"
      ]
     },
     "metadata": {},
     "output_type": "display_data"
    }
   ],
   "source": [
    "dd.results.plot()"
   ]
  },
  {
   "cell_type": "code",
   "execution_count": 68,
   "metadata": {
    "collapsed": false
   },
   "outputs": [
    {
     "data": {
      "text/plain": [
       "1.0065369858947295"
      ]
     },
     "execution_count": 68,
     "metadata": {},
     "output_type": "execute_result"
    }
   ],
   "source": [
    "get_vol_ratio_ROLL(gs_historical, 1, 2)[-1]"
   ]
  },
  {
   "cell_type": "code",
   "execution_count": null,
   "metadata": {
    "collapsed": true
   },
   "outputs": [],
   "source": []
  }
 ],
 "metadata": {
  "kernelspec": {
   "display_name": "Python 3",
   "language": "python",
   "name": "python3"
  },
  "language_info": {
   "codemirror_mode": {
    "name": "ipython",
    "version": 3
   },
   "file_extension": ".py",
   "mimetype": "text/x-python",
   "name": "python",
   "nbconvert_exporter": "python",
   "pygments_lexer": "ipython3",
   "version": "3.4.3"
  }
 },
 "nbformat": 4,
 "nbformat_minor": 0
}
